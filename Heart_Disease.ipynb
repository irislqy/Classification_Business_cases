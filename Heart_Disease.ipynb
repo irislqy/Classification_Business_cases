{
  "nbformat": 4,
  "nbformat_minor": 0,
  "metadata": {
    "colab": {
      "name": "Heart Disease.ipynb",
      "version": "0.3.2",
      "provenance": [],
      "collapsed_sections": [],
      "include_colab_link": true
    },
    "kernelspec": {
      "name": "python3",
      "display_name": "Python 3"
    }
  },
  "cells": [
    {
      "cell_type": "markdown",
      "metadata": {
        "id": "view-in-github",
        "colab_type": "text"
      },
      "source": [
        "<a href=\"https://colab.research.google.com/github/irislqy/Classification_Business_cases/blob/master/Heart_Disease.ipynb\" target=\"_parent\"><img src=\"https://colab.research.google.com/assets/colab-badge.svg\" alt=\"Open In Colab\"/></a>"
      ]
    },
    {
      "cell_type": "markdown",
      "metadata": {
        "id": "FuUGqsY7VwxB",
        "colab_type": "text"
      },
      "source": [
        "1. Develop ML models. Apply LogisticRegression, SVM, RandomForest classification algorithms. \n",
        "2. Apply GridSearchCV to find the best hyperparameters.\n",
        "3. Assess model performance (confusion matrix, precision, recall, ROC AUC) and interpret performance from business\n",
        "impact viewpoint (false negatives vs false positives). \n",
        "4. Apply AutoML (Auto sklearn) to build classification model and compare model performance."
      ]
    },
    {
      "cell_type": "markdown",
      "metadata": {
        "id": "ETjipgQ3oPkd",
        "colab_type": "text"
      },
      "source": [
        "## Classfication Model"
      ]
    },
    {
      "cell_type": "markdown",
      "metadata": {
        "id": "rUdZZK555FQh",
        "colab_type": "text"
      },
      "source": [
        "###Import Dataset"
      ]
    },
    {
      "cell_type": "code",
      "metadata": {
        "id": "bFHv7m0KiRpO",
        "colab_type": "code",
        "colab": {}
      },
      "source": [
        "import pandas as pd"
      ],
      "execution_count": 0,
      "outputs": []
    },
    {
      "cell_type": "code",
      "metadata": {
        "id": "iurPTvTDiSwo",
        "colab_type": "code",
        "colab": {}
      },
      "source": [
        "df = pd.read_csv(\"https://raw.githubusercontent.com/irislqy/Classification_Business_cases/master/heart.csv\")\n"
      ],
      "execution_count": 0,
      "outputs": []
    },
    {
      "cell_type": "code",
      "metadata": {
        "id": "PaPSdcYsjH2W",
        "colab_type": "code",
        "colab": {
          "base_uri": "https://localhost:8080/",
          "height": 204
        },
        "outputId": "b8061272-9881-4c6a-b196-3848f8e25d25"
      },
      "source": [
        "df.head()"
      ],
      "execution_count": 6,
      "outputs": [
        {
          "output_type": "execute_result",
          "data": {
            "text/html": [
              "<div>\n",
              "<style scoped>\n",
              "    .dataframe tbody tr th:only-of-type {\n",
              "        vertical-align: middle;\n",
              "    }\n",
              "\n",
              "    .dataframe tbody tr th {\n",
              "        vertical-align: top;\n",
              "    }\n",
              "\n",
              "    .dataframe thead th {\n",
              "        text-align: right;\n",
              "    }\n",
              "</style>\n",
              "<table border=\"1\" class=\"dataframe\">\n",
              "  <thead>\n",
              "    <tr style=\"text-align: right;\">\n",
              "      <th></th>\n",
              "      <th>age</th>\n",
              "      <th>sex</th>\n",
              "      <th>cp</th>\n",
              "      <th>trestbps</th>\n",
              "      <th>chol</th>\n",
              "      <th>fbs</th>\n",
              "      <th>restecg</th>\n",
              "      <th>thalach</th>\n",
              "      <th>exang</th>\n",
              "      <th>oldpeak</th>\n",
              "      <th>slope</th>\n",
              "      <th>ca</th>\n",
              "      <th>thal</th>\n",
              "      <th>target</th>\n",
              "    </tr>\n",
              "  </thead>\n",
              "  <tbody>\n",
              "    <tr>\n",
              "      <th>0</th>\n",
              "      <td>63</td>\n",
              "      <td>1</td>\n",
              "      <td>3</td>\n",
              "      <td>145</td>\n",
              "      <td>233</td>\n",
              "      <td>1</td>\n",
              "      <td>0</td>\n",
              "      <td>150</td>\n",
              "      <td>0</td>\n",
              "      <td>2.3</td>\n",
              "      <td>0</td>\n",
              "      <td>0</td>\n",
              "      <td>1</td>\n",
              "      <td>1</td>\n",
              "    </tr>\n",
              "    <tr>\n",
              "      <th>1</th>\n",
              "      <td>37</td>\n",
              "      <td>1</td>\n",
              "      <td>2</td>\n",
              "      <td>130</td>\n",
              "      <td>250</td>\n",
              "      <td>0</td>\n",
              "      <td>1</td>\n",
              "      <td>187</td>\n",
              "      <td>0</td>\n",
              "      <td>3.5</td>\n",
              "      <td>0</td>\n",
              "      <td>0</td>\n",
              "      <td>2</td>\n",
              "      <td>1</td>\n",
              "    </tr>\n",
              "    <tr>\n",
              "      <th>2</th>\n",
              "      <td>41</td>\n",
              "      <td>0</td>\n",
              "      <td>1</td>\n",
              "      <td>130</td>\n",
              "      <td>204</td>\n",
              "      <td>0</td>\n",
              "      <td>0</td>\n",
              "      <td>172</td>\n",
              "      <td>0</td>\n",
              "      <td>1.4</td>\n",
              "      <td>2</td>\n",
              "      <td>0</td>\n",
              "      <td>2</td>\n",
              "      <td>1</td>\n",
              "    </tr>\n",
              "    <tr>\n",
              "      <th>3</th>\n",
              "      <td>56</td>\n",
              "      <td>1</td>\n",
              "      <td>1</td>\n",
              "      <td>120</td>\n",
              "      <td>236</td>\n",
              "      <td>0</td>\n",
              "      <td>1</td>\n",
              "      <td>178</td>\n",
              "      <td>0</td>\n",
              "      <td>0.8</td>\n",
              "      <td>2</td>\n",
              "      <td>0</td>\n",
              "      <td>2</td>\n",
              "      <td>1</td>\n",
              "    </tr>\n",
              "    <tr>\n",
              "      <th>4</th>\n",
              "      <td>57</td>\n",
              "      <td>0</td>\n",
              "      <td>0</td>\n",
              "      <td>120</td>\n",
              "      <td>354</td>\n",
              "      <td>0</td>\n",
              "      <td>1</td>\n",
              "      <td>163</td>\n",
              "      <td>1</td>\n",
              "      <td>0.6</td>\n",
              "      <td>2</td>\n",
              "      <td>0</td>\n",
              "      <td>2</td>\n",
              "      <td>1</td>\n",
              "    </tr>\n",
              "  </tbody>\n",
              "</table>\n",
              "</div>"
            ],
            "text/plain": [
              "   age  sex  cp  trestbps  chol  fbs  restecg  thalach  exang  oldpeak  slope  \\\n",
              "0   63    1   3       145   233    1        0      150      0      2.3      0   \n",
              "1   37    1   2       130   250    0        1      187      0      3.5      0   \n",
              "2   41    0   1       130   204    0        0      172      0      1.4      2   \n",
              "3   56    1   1       120   236    0        1      178      0      0.8      2   \n",
              "4   57    0   0       120   354    0        1      163      1      0.6      2   \n",
              "\n",
              "   ca  thal  target  \n",
              "0   0     1       1  \n",
              "1   0     2       1  \n",
              "2   0     2       1  \n",
              "3   0     2       1  \n",
              "4   0     2       1  "
            ]
          },
          "metadata": {
            "tags": []
          },
          "execution_count": 6
        }
      ]
    },
    {
      "cell_type": "code",
      "metadata": {
        "id": "_1FCT1cgoxZo",
        "colab_type": "code",
        "colab": {
          "base_uri": "https://localhost:8080/",
          "height": 340
        },
        "outputId": "358b79e9-392a-4f56-d7b1-2798fffaea32"
      },
      "source": [
        "df.info()"
      ],
      "execution_count": 7,
      "outputs": [
        {
          "output_type": "stream",
          "text": [
            "<class 'pandas.core.frame.DataFrame'>\n",
            "RangeIndex: 303 entries, 0 to 302\n",
            "Data columns (total 14 columns):\n",
            "age         303 non-null int64\n",
            "sex         303 non-null int64\n",
            "cp          303 non-null int64\n",
            "trestbps    303 non-null int64\n",
            "chol        303 non-null int64\n",
            "fbs         303 non-null int64\n",
            "restecg     303 non-null int64\n",
            "thalach     303 non-null int64\n",
            "exang       303 non-null int64\n",
            "oldpeak     303 non-null float64\n",
            "slope       303 non-null int64\n",
            "ca          303 non-null int64\n",
            "thal        303 non-null int64\n",
            "target      303 non-null int64\n",
            "dtypes: float64(1), int64(13)\n",
            "memory usage: 33.2 KB\n"
          ],
          "name": "stdout"
        }
      ]
    },
    {
      "cell_type": "markdown",
      "metadata": {
        "id": "xkmlLyqhqAy5",
        "colab_type": "text"
      },
      "source": [
        "###Import modules"
      ]
    },
    {
      "cell_type": "code",
      "metadata": {
        "id": "QDQHEidmqQrg",
        "colab_type": "code",
        "colab": {}
      },
      "source": [
        "#import\n",
        "\n",
        "#pandas\n",
        "import pandas as pd\n",
        "\n",
        "#numpy, matplotlib, seaborn\n",
        "import numpy as np\n",
        "import matplotlib.pyplot as plt\n",
        "import seaborn as sns\n",
        "sns.set_style('whitegrid')\n",
        "%matplotlib inline\n",
        "\n",
        "import time\n",
        "import random\n",
        "import sklearn\n",
        "\n",
        "\n",
        "#machine learning\n",
        "from sklearn.linear_model import LogisticRegression\n",
        "from sklearn.svm import SVC, LinearSVC\n",
        "from sklearn.ensemble import RandomForestClassifier\n",
        "from sklearn.neighbors import KNeighborsClassifier\n",
        "from sklearn.naive_bayes import GaussianNB\n",
        "\n",
        "\n",
        "from sklearn.model_selection import train_test_split\n",
        "from imblearn.over_sampling import SMOTE\n",
        "\n",
        "\n",
        "from yellowbrick.features import RFECV\n",
        "import statsmodels.formula.api as smf\n",
        "\n",
        "from sklearn.model_selection import StratifiedKFold\n",
        "from sklearn.model_selection import GridSearchCV\n",
        "\n",
        "\n",
        "from sklearn import metrics\n",
        "from sklearn.metrics import mean_absolute_error, accuracy_score\n",
        "\n",
        "\n",
        "import warnings\n",
        "warnings.filterwarnings('ignore')\n",
        "\n",
        "from sklearn.model_selection import train_test_split\n",
        "from sklearn.linear_model import LogisticRegression\n",
        "from sklearn.ensemble import RandomForestClassifier\n",
        "from sklearn.metrics import accuracy_score\n",
        "from sklearn.tree import DecisionTreeClassifier\n",
        "\n",
        "from sklearn import svm, tree, linear_model, neighbors, naive_bayes, ensemble, discriminant_analysis, gaussian_process\n",
        "from xgboost import XGBClassifier\n",
        "\n",
        "from sklearn.metrics import roc_curve, auc\n",
        "\n",
        "from sklearn.pipeline import Pipeline\n",
        "\n",
        "from sklearn.model_selection import GridSearchCV\n",
        "from sklearn.metrics import accuracy_score,recall_score,precision_score,f1_score\n",
        "from sklearn.metrics import confusion_matrix"
      ],
      "execution_count": 0,
      "outputs": []
    },
    {
      "cell_type": "markdown",
      "metadata": {
        "id": "xMD6X5CFqlMc",
        "colab_type": "text"
      },
      "source": [
        "## Logistic Regression/ Random Forest/SVM prediction"
      ]
    },
    {
      "cell_type": "markdown",
      "metadata": {
        "id": "HbzulSzwu2Gk",
        "colab_type": "text"
      },
      "source": [
        "##logistic *regression*"
      ]
    },
    {
      "cell_type": "code",
      "metadata": {
        "id": "Yj_PdYTcqo-5",
        "colab_type": "code",
        "colab": {}
      },
      "source": [
        "features = df.drop(['target'],axis=1)\n",
        "target = df.target"
      ],
      "execution_count": 0,
      "outputs": []
    },
    {
      "cell_type": "code",
      "metadata": {
        "id": "kkaGEiJIuufa",
        "colab_type": "code",
        "outputId": "0799676c-4822-429f-f466-530c5c0c7388",
        "colab": {
          "base_uri": "https://localhost:8080/",
          "height": 85
        }
      },
      "source": [
        "# Here is the accuracy of Logistic Regression as 0.836\n",
        "train_x,test_x,train_y,test_y = train_test_split(features,target,random_state=30,test_size=0.2)\n",
        "model_Log = LogisticRegression(random_state=34)\n",
        "model_Log.fit(train_x,train_y)\n",
        "print(\"Accuracy using LogisticRegression \",accuracy_score(test_y,model_Log.predict(test_x)))\n",
        "print('Precision Score : ' + str(precision_score(test_y,model_Log.predict(test_x))))\n",
        "print('Recall Score : ' + str(recall_score(test_y,model_Log.predict(test_x))))\n",
        "print('F1 Score : ' + str(f1_score(test_y,model_Log.predict(test_x))))"
      ],
      "execution_count": 10,
      "outputs": [
        {
          "output_type": "stream",
          "text": [
            "Accuracy using LogisticRegression  0.8360655737704918\n",
            "Precision Score : 0.9090909090909091\n",
            "Recall Score : 0.8108108108108109\n",
            "F1 Score : 0.8571428571428571\n"
          ],
          "name": "stdout"
        }
      ]
    },
    {
      "cell_type": "code",
      "metadata": {
        "id": "RHg21Tmj0X-A",
        "colab_type": "code",
        "colab": {
          "base_uri": "https://localhost:8080/",
          "height": 637
        },
        "outputId": "ee3e5606-02b8-4665-bc56-ba9ae28e86d5"
      },
      "source": [
        "# ROC RUC for Logistic Regression\n",
        "predictions=model_Log.predict_proba(test_x)\n",
        "false_positive_rate, recall, thresholds = roc_curve(test_y, predictions[:, 1])\n",
        "roc_auc=auc(false_positive_rate,recall)\n",
        "plt.figure()\n",
        "lw = 2\n",
        "plt.figure(figsize=(10,10))\n",
        "plt.title('Logistic Regression: ROC AUC')\n",
        "plt.plot(false_positive_rate, recall, color='darkorange',\n",
        "         lw=lw, label='ROC curve (area = %0.2f)' % roc_auc)\n",
        "plt.legend(loc='lower right')\n",
        "plt.plot([0,1],[0,1],color='navy',lw=2, linestyle='--')\n",
        "plt.xlim([0.0,1.0])\n",
        "plt.ylim([0.0, 1.05])\n",
        "plt.ylabel('False Positive Rate')\n",
        "plt.xlabel('True Positive Rate')\n",
        "plt.show()"
      ],
      "execution_count": 11,
      "outputs": [
        {
          "output_type": "display_data",
          "data": {
            "text/plain": [
              "<Figure size 576x396 with 0 Axes>"
            ]
          },
          "metadata": {
            "tags": []
          }
        },
        {
          "output_type": "display_data",
          "data": {
            "image/png": "[encoded data removed]",
            "text/plain": [
              "<Figure size 720x720 with 1 Axes>"
            ]
          },
          "metadata": {
            "tags": []
          }
        }
      ]
    },
    {
      "cell_type": "markdown",
      "metadata": {
        "id": "5nvGSZdWxFG7",
        "colab_type": "text"
      },
      "source": [
        "###GridsearchCV"
      ]
    },
    {
      "cell_type": "code",
      "metadata": {
        "id": "899rd9msxGsc",
        "colab_type": "code",
        "colab": {
          "base_uri": "https://localhost:8080/",
          "height": 119
        },
        "outputId": "597306cb-c926-4a4a-a28f-d9f9f7f789c1"
      },
      "source": [
        "#Grid Search\n",
        "\n",
        "clf = LogisticRegression()\n",
        "grid_values = {'penalty': ['l1', 'l2'],'C':[0.001,.009,0.01,.09,1,5,10,25]}\n",
        "grid_clf_acc = GridSearchCV(clf, param_grid = grid_values,scoring = 'recall')\n",
        "grid_clf_acc.fit(train_x, train_y)\n",
        "\n",
        "#Predict values based on new parameters\n",
        "y_pred_acc = grid_clf_acc.predict(test_x)\n",
        "\n",
        "# New Model Evaluation metrics \n",
        "print('Accuracy Score : ' + str(accuracy_score(test_y,y_pred_acc)))\n",
        "print('Precision Score : ' + str(precision_score(test_y,y_pred_acc)))\n",
        "print('Recall Score : ' + str(recall_score(test_y,y_pred_acc)))\n",
        "print('F1 Score : ' + str(f1_score(test_y,y_pred_acc)))\n",
        "\n",
        "#Logistic Regression (Grid Search) Confusion matrix\n",
        "confusion_matrix(test_y,y_pred_acc)"
      ],
      "execution_count": 12,
      "outputs": [
        {
          "output_type": "stream",
          "text": [
            "Accuracy Score : 0.6065573770491803\n",
            "Precision Score : 0.6065573770491803\n",
            "Recall Score : 1.0\n",
            "F1 Score : 0.7551020408163265\n"
          ],
          "name": "stdout"
        },
        {
          "output_type": "execute_result",
          "data": {
            "text/plain": [
              "array([[ 0, 24],\n",
              "       [ 0, 37]])"
            ]
          },
          "metadata": {
            "tags": []
          },
          "execution_count": 12
        }
      ]
    },
    {
      "cell_type": "code",
      "metadata": {
        "id": "zmTN_H1P0cP4",
        "colab_type": "code",
        "colab": {
          "base_uri": "https://localhost:8080/",
          "height": 637
        },
        "outputId": "d2e4c336-eb10-41d8-d8a8-0c5f56617ba8"
      },
      "source": [
        "# ROC RUC for Logistic Regression after GridSearchCV\n",
        "predictions=grid_clf_acc.predict_proba(test_x)\n",
        "false_positive_rate, recall, thresholds = roc_curve(test_y, predictions[:, 1])\n",
        "roc_auc=auc(false_positive_rate,recall)\n",
        "plt.figure()\n",
        "lw = 2\n",
        "plt.figure(figsize=(10,10))\n",
        "plt.title('Logistic Regression after GridSearchCV: ROC AUC')\n",
        "plt.plot(false_positive_rate, recall, color='darkorange',\n",
        "         lw=lw, label='ROC curve (area = %0.2f)' % roc_auc)\n",
        "plt.legend(loc='lower right')\n",
        "plt.plot([0,1],[0,1],color='navy',lw=2, linestyle='--')\n",
        "plt.xlim([0.0,1.0])\n",
        "plt.ylim([0.0, 1.05])\n",
        "plt.ylabel('False Positive Rate')\n",
        "plt.xlabel('True Positive Rate')\n",
        "plt.show()"
      ],
      "execution_count": 13,
      "outputs": [
        {
          "output_type": "display_data",
          "data": {
            "text/plain": [
              "<Figure size 576x396 with 0 Axes>"
            ]
          },
          "metadata": {
            "tags": []
          }
        },
        {
          "output_type": "display_data",
          "data": {
            "image/png": "[encoded data removed]",
            "text/plain": [
              "<Figure size 720x720 with 1 Axes>"
            ]
          },
          "metadata": {
            "tags": []
          }
        }
      ]
    },
    {
      "cell_type": "markdown",
      "metadata": {
        "id": "nTi_rCpQu4Y4",
        "colab_type": "text"
      },
      "source": [
        "##random forest"
      ]
    },
    {
      "cell_type": "code",
      "metadata": {
        "id": "c9xCzr3Mu6tY",
        "colab_type": "code",
        "outputId": "3e8b2da3-f925-4f6d-cd71-46d18a520888",
        "colab": {
          "base_uri": "https://localhost:8080/",
          "height": 85
        }
      },
      "source": [
        "# and here is the accuracy of Random Forest Classifier, as 0.72\n",
        "model_RFC = RandomForestClassifier(random_state=45)\n",
        "model_RFC.fit(train_x,train_y)\n",
        "print(\"Accuracy using RandomForestClassifier \",accuracy_score(test_y,model_RFC.predict(test_x)))\n",
        "print('Precision Score : ' + str(precision_score(test_y,model_RFC.predict(test_x))))\n",
        "print(\"Recall Score : \" + str(recall_score(test_y,model_RFC.predict(test_x))))\n",
        "print('F1 Score : ' + str(f1_score(test_y,model_RFC.predict(test_x))))"
      ],
      "execution_count": 23,
      "outputs": [
        {
          "output_type": "stream",
          "text": [
            "Accuracy using RandomForestClassifier  0.7213114754098361\n",
            "Precision Score : 0.8846153846153846\n",
            "Recall Score : 0.6216216216216216\n",
            "F1 Score : 0.7301587301587302\n"
          ],
          "name": "stdout"
        }
      ]
    },
    {
      "cell_type": "code",
      "metadata": {
        "id": "M-tC_oKPORDI",
        "colab_type": "code",
        "outputId": "2db0789b-a43c-4136-875a-ebebdb4851ef",
        "colab": {
          "base_uri": "https://localhost:8080/",
          "height": 637
        }
      },
      "source": [
        "# ROC RUC for Random Forest Classifier\n",
        "predictions=model_RFC.predict_proba(test_x)\n",
        "false_positive_rate, recall, thresholds = roc_curve(test_y, predictions[:, 1])\n",
        "roc_auc=auc(false_positive_rate,recall)\n",
        "plt.figure()\n",
        "lw = 2\n",
        "plt.figure(figsize=(10,10))\n",
        "plt.title('Random Forest Classifier: ROC RUC')\n",
        "plt.plot(false_positive_rate, recall, color='darkorange',\n",
        "         lw=lw, label='ROC curve (area = %0.2f)' % roc_auc)\n",
        "plt.legend(loc='lower right')\n",
        "plt.plot([0,1],[0,1],color='navy',lw=2, linestyle='--')\n",
        "plt.xlim([0.0,1.0])\n",
        "plt.ylim([0.0, 1.05])\n",
        "plt.ylabel('False Positive Rate')\n",
        "plt.xlabel('True Positive Rate')\n",
        "plt.show()"
      ],
      "execution_count": 24,
      "outputs": [
        {
          "output_type": "display_data",
          "data": {
            "text/plain": [
              "<Figure size 576x396 with 0 Axes>"
            ]
          },
          "metadata": {
            "tags": []
          }
        },
        {
          "output_type": "display_data",
          "data": {
            "image/png": "[encoded data removed]",
            "text/plain": [
              "<Figure size 720x720 with 1 Axes>"
            ]
          },
          "metadata": {
            "tags": []
          }
        }
      ]
    },
    {
      "cell_type": "markdown",
      "metadata": {
        "id": "rCJhXImnbA5y",
        "colab_type": "text"
      },
      "source": [
        "###GridSearchCV"
      ]
    },
    {
      "cell_type": "code",
      "metadata": {
        "id": "__OKQf1xbC3v",
        "colab_type": "code",
        "colab": {
          "base_uri": "https://localhost:8080/",
          "height": 309
        },
        "outputId": "cb77f5b9-8f6d-4a2f-c2d5-9a52205b3505"
      },
      "source": [
        "param_grid = {\n",
        "    'bootstrap': [True],\n",
        "    'max_depth': [80, 100, 110],\n",
        "    'max_features': [2, 3],\n",
        "    'min_samples_leaf': [3, 5],\n",
        "    'min_samples_split': [8, 12],\n",
        "    'n_estimators': [100, 200, 300]\n",
        "}\n",
        "\n",
        "# Instantiate the grid search model\n",
        "rf_grid = GridSearchCV(estimator = model_RFC, param_grid = param_grid, \n",
        "                          cv = 3, n_jobs = -1, verbose = 2)\n",
        "\n",
        "rf_grid.fit(train_x, train_y)"
      ],
      "execution_count": 30,
      "outputs": [
        {
          "output_type": "stream",
          "text": [
            "Fitting 3 folds for each of 72 candidates, totalling 216 fits\n"
          ],
          "name": "stdout"
        },
        {
          "output_type": "stream",
          "text": [
            "[Parallel(n_jobs=-1)]: Using backend LokyBackend with 2 concurrent workers.\n",
            "[Parallel(n_jobs=-1)]: Done  37 tasks      | elapsed:    7.2s\n",
            "[Parallel(n_jobs=-1)]: Done 158 tasks      | elapsed:   25.1s\n",
            "[Parallel(n_jobs=-1)]: Done 216 out of 216 | elapsed:   33.9s finished\n"
          ],
          "name": "stderr"
        },
        {
          "output_type": "execute_result",
          "data": {
            "text/plain": [
              "GridSearchCV(cv=3, error_score='raise-deprecating',\n",
              "       estimator=RandomForestClassifier(bootstrap=True, class_weight=None, criterion='gini',\n",
              "            max_depth=None, max_features='auto', max_leaf_nodes=None,\n",
              "            min_impurity_decrease=0.0, min_impurity_split=None,\n",
              "            min_samples_leaf=1, min_samples_split=2,\n",
              "            min_weight_fraction_leaf=0.0, n_estimators=10, n_jobs=None,\n",
              "            oob_score=False, random_state=45, verbose=0, warm_start=False),\n",
              "       fit_params=None, iid='warn', n_jobs=-1,\n",
              "       param_grid={'bootstrap': [True], 'max_depth': [80, 100, 110], 'max_features': [2, 3], 'min_samples_leaf': [3, 5], 'min_samples_split': [8, 12], 'n_estimators': [100, 200, 300]},\n",
              "       pre_dispatch='2*n_jobs', refit=True, return_train_score='warn',\n",
              "       scoring=None, verbose=2)"
            ]
          },
          "metadata": {
            "tags": []
          },
          "execution_count": 30
        }
      ]
    },
    {
      "cell_type": "code",
      "metadata": {
        "id": "9OSE-5HZbrgm",
        "colab_type": "code",
        "colab": {
          "base_uri": "https://localhost:8080/",
          "height": 85
        },
        "outputId": "61ed5e79-abf9-4e78-fd27-17963233f6cd"
      },
      "source": [
        "#prediction score after tuning is 0.85, much higher than before tuning.\n",
        "rf_grid.best_params_\n",
        "print(\"Accuracy using RandomForestClassifier \",accuracy_score(test_y,rf_grid.predict(test_x)))\n",
        "print('Precision Score : ' + str(precision_score(test_y,rf_grid.predict(test_x))))\n",
        "print(\"Recall Score : \" + str(recall_score(test_y,rf_grid.predict(test_x))))\n",
        "print('F1 Score : ' + str(f1_score(test_y,rf_grid.predict(test_x))))"
      ],
      "execution_count": 33,
      "outputs": [
        {
          "output_type": "stream",
          "text": [
            "Accuracy using RandomForestClassifier  0.8524590163934426\n",
            "Precision Score : 0.9375\n",
            "Recall Score : 0.8108108108108109\n",
            "F1 Score : 0.8695652173913043\n"
          ],
          "name": "stdout"
        }
      ]
    },
    {
      "cell_type": "code",
      "metadata": {
        "id": "luPj6v0hb8LQ",
        "colab_type": "code",
        "colab": {
          "base_uri": "https://localhost:8080/",
          "height": 637
        },
        "outputId": "acf29bb6-824e-4e5a-ee4e-faea8e639089"
      },
      "source": [
        "# ROC RUC for Random Forest Classifier after GridSearchCV\n",
        "predictions=rf_grid.predict_proba(test_x)\n",
        "false_positive_rate, recall, thresholds = roc_curve(test_y, predictions[:, 1])\n",
        "roc_auc=auc(false_positive_rate,recall)\n",
        "plt.figure()\n",
        "lw = 2\n",
        "plt.figure(figsize=(10,10))\n",
        "plt.title('Random Forest Classifier: ROC RUC')\n",
        "plt.plot(false_positive_rate, recall, color='darkorange',\n",
        "         lw=lw, label='ROC curve (area = %0.2f)' % roc_auc)\n",
        "plt.legend(loc='lower right')\n",
        "plt.plot([0,1],[0,1],color='navy',lw=2, linestyle='--')\n",
        "plt.xlim([0.0,1.0])\n",
        "plt.ylim([0.0, 1.05])\n",
        "plt.ylabel('False Positive Rate')\n",
        "plt.xlabel('True Positive Rate')\n",
        "plt.show()"
      ],
      "execution_count": 34,
      "outputs": [
        {
          "output_type": "display_data",
          "data": {
            "text/plain": [
              "<Figure size 576x396 with 0 Axes>"
            ]
          },
          "metadata": {
            "tags": []
          }
        },
        {
          "output_type": "display_data",
          "data": {
            "image/png": "[encoded data removed]",
            "text/plain": [
              "<Figure size 720x720 with 1 Axes>"
            ]
          },
          "metadata": {
            "tags": []
          }
        }
      ]
    },
    {
      "cell_type": "markdown",
      "metadata": {
        "id": "oSUDE6mVu7OW",
        "colab_type": "text"
      },
      "source": [
        "##svm"
      ]
    },
    {
      "cell_type": "code",
      "metadata": {
        "id": "mg4c6e7wG_jr",
        "colab_type": "code",
        "outputId": "882d9c3b-75ae-4586-8984-61348fe446e2",
        "colab": {
          "base_uri": "https://localhost:8080/",
          "height": 85
        }
      },
      "source": [
        "# here is the accuracy of SVM:C=0.8, kernel='linear' , as 0.85\n",
        "clf1 = svm.SVC(C=0.8, kernel='linear', decision_function_shape='ovr')\n",
        "clf1.fit(train_x, train_y)\n",
        "print(\"accuracy:\"+str(np.average(cross_val_score(clf1, train_x, train_y, scoring='accuracy'))))\n",
        "print(\"Precision Score:\"+str(np.average(cross_val_score(clf1, train_x, train_y, scoring='precision'))))\n",
        "print(\"Recall Score\"+str(np.average(cross_val_score(clf1, train_x, train_y, scoring='recall'))))\n",
        "print(\"f1:\"+str(np.average(cross_val_score(clf1, train_x, train_y, scoring='f1'))))"
      ],
      "execution_count": 52,
      "outputs": [
        {
          "output_type": "stream",
          "text": [
            "accuracy:0.8429012345679011\n",
            "Precision Score:0.8336434108527131\n",
            "Recall Score0.8831672203765226\n",
            "f1:0.8562521065048871\n"
          ],
          "name": "stdout"
        }
      ]
    },
    {
      "cell_type": "code",
      "metadata": {
        "id": "wK3vi2qWLjPb",
        "colab_type": "code",
        "outputId": "f89ed418-15ec-4b49-9d0f-84fb264d5125",
        "colab": {
          "base_uri": "https://localhost:8080/",
          "height": 637
        }
      },
      "source": [
        "# ROC RUC curve for SVM: C=0.8, kernel='linear'\n",
        "\n",
        "y_score = clf1.fit(train_x, train_y).decision_function(test_x)\n",
        "fpr,tpr,threshold = roc_curve(test_y, y_score)\n",
        "roc_auc = auc(fpr,tpr)\n",
        "\n",
        "\n",
        "plt.figure()\n",
        "lw = 2\n",
        "plt.figure(figsize=(10,10))\n",
        "plt.plot(fpr, tpr, color='darkorange',\n",
        "         lw=lw, label='ROC curve (area = %0.2f)' % roc_auc)\n",
        "plt.plot([0, 1], [0, 1], color='navy', lw=lw, linestyle='--')\n",
        "plt.xlim([0.0, 1.0])\n",
        "plt.ylim([0.0, 1.05])\n",
        "plt.xlabel('False Positive Rate')\n",
        "plt.ylabel('True Positive Rate')\n",
        "plt.title('SVM: C=0.8, kernel=linear: ROC AOC')\n",
        "plt.legend(loc=\"lower right\")\n",
        "plt.show()"
      ],
      "execution_count": 39,
      "outputs": [
        {
          "output_type": "display_data",
          "data": {
            "text/plain": [
              "<Figure size 576x396 with 0 Axes>"
            ]
          },
          "metadata": {
            "tags": []
          }
        },
        {
          "output_type": "display_data",
          "data": {
            "image/png": "[encoded data removed]",
            "text/plain": [
              "<Figure size 720x720 with 1 Axes>"
            ]
          },
          "metadata": {
            "tags": []
          }
        }
      ]
    },
    {
      "cell_type": "code",
      "metadata": {
        "id": "oaJ8o9rQIHtk",
        "colab_type": "code",
        "outputId": "d0f19b06-06e1-4606-b5a4-a6bf8a4cbb3b",
        "colab": {
          "base_uri": "https://localhost:8080/",
          "height": 34
        }
      },
      "source": [
        "# here is the accuracy of SVM:C=0.8, kernel='rbf' , as 1, which could result from overfitting\n",
        "clf2 = svm.SVC(C=0.8, kernel='rbf', decision_function_shape='ovr')\n",
        "clf2.fit(train_x, train_y)\n",
        "print(clf2.score(train_x, train_y))"
      ],
      "execution_count": 40,
      "outputs": [
        {
          "output_type": "stream",
          "text": [
            "1.0\n"
          ],
          "name": "stdout"
        }
      ]
    },
    {
      "cell_type": "code",
      "metadata": {
        "id": "7EHK6CwvMOWX",
        "colab_type": "code",
        "outputId": "2f103a91-286c-43f0-817d-e6f07c25b9cb",
        "colab": {
          "base_uri": "https://localhost:8080/",
          "height": 637
        }
      },
      "source": [
        "# ROC RUC curve for SVM: C=0.8, kernel='rbf'\n",
        "# does not perform well in ROC\n",
        "\n",
        "from sklearn.metrics import roc_curve, auc\n",
        "y_score = clf2.fit(train_x, train_y).decision_function(test_x)\n",
        "fpr,tpr,threshold = roc_curve(test_y, y_score)\n",
        "roc_auc = auc(fpr,tpr)\n",
        "\n",
        "plt.figure()\n",
        "lw = 2\n",
        "plt.figure(figsize=(10,10))\n",
        "plt.plot(fpr, tpr, color='darkorange',\n",
        "         lw=lw, label='ROC curve (area = %0.2f)' % roc_auc)\n",
        "plt.plot([0, 1], [0, 1], color='navy', lw=lw, linestyle='--')\n",
        "plt.xlim([0.0, 1.0])\n",
        "plt.ylim([0.0, 1.05])\n",
        "plt.xlabel('False Positive Rate')\n",
        "plt.ylabel('True Positive Rate')\n",
        "plt.title('SVM: C=0.8, kernel=rbf: ROC AUC')\n",
        "plt.legend(loc=\"lower right\")\n",
        "plt.show()"
      ],
      "execution_count": 42,
      "outputs": [
        {
          "output_type": "display_data",
          "data": {
            "text/plain": [
              "<Figure size 576x396 with 0 Axes>"
            ]
          },
          "metadata": {
            "tags": []
          }
        },
        {
          "output_type": "display_data",
          "data": {
            "image/png": "[encoded data removed]",
            "text/plain": [
              "<Figure size 720x720 with 1 Axes>"
            ]
          },
          "metadata": {
            "tags": []
          }
        }
      ]
    },
    {
      "cell_type": "markdown",
      "metadata": {
        "id": "qK3wl1ketdWr",
        "colab_type": "text"
      },
      "source": [
        "###Gridsearch"
      ]
    },
    {
      "cell_type": "code",
      "metadata": {
        "id": "jUJ7bD0bIzi6",
        "colab_type": "code",
        "colab": {}
      },
      "source": [
        "# SVM GridSearch\n",
        "from sklearn.model_selection import GridSearchCV\n",
        "from sklearn.metrics import classification_report\n",
        "parameters = {'kernel':('linear', 'rbf'), 'C':[0.8,0.9,1]}\n",
        "svr = svm.SVC()\n",
        "clf = GridSearchCV(svr, parameters, scoring='f1_macro', cv=5)\n",
        "result = clf.fit(train_x, train_y)"
      ],
      "execution_count": 0,
      "outputs": []
    },
    {
      "cell_type": "code",
      "metadata": {
        "id": "5R60J9_4J-tp",
        "colab_type": "code",
        "outputId": "6b361fe1-23c9-41c5-ab36-a5c166a58a5a",
        "colab": {
          "base_uri": "https://localhost:8080/",
          "height": 496
        }
      },
      "source": [
        "# Result of SVM GridSearch\n",
        "result_svc = pd.DataFrame(result.cv_results_)\n",
        "result_svc.sort_values(by='mean_test_score', ascending=False).head(5)"
      ],
      "execution_count": 45,
      "outputs": [
        {
          "output_type": "execute_result",
          "data": {
            "text/html": [
              "<div>\n",
              "<style scoped>\n",
              "    .dataframe tbody tr th:only-of-type {\n",
              "        vertical-align: middle;\n",
              "    }\n",
              "\n",
              "    .dataframe tbody tr th {\n",
              "        vertical-align: top;\n",
              "    }\n",
              "\n",
              "    .dataframe thead th {\n",
              "        text-align: right;\n",
              "    }\n",
              "</style>\n",
              "<table border=\"1\" class=\"dataframe\">\n",
              "  <thead>\n",
              "    <tr style=\"text-align: right;\">\n",
              "      <th></th>\n",
              "      <th>mean_fit_time</th>\n",
              "      <th>std_fit_time</th>\n",
              "      <th>mean_score_time</th>\n",
              "      <th>std_score_time</th>\n",
              "      <th>param_C</th>\n",
              "      <th>param_kernel</th>\n",
              "      <th>params</th>\n",
              "      <th>split0_test_score</th>\n",
              "      <th>split1_test_score</th>\n",
              "      <th>split2_test_score</th>\n",
              "      <th>...</th>\n",
              "      <th>mean_test_score</th>\n",
              "      <th>std_test_score</th>\n",
              "      <th>rank_test_score</th>\n",
              "      <th>split0_train_score</th>\n",
              "      <th>split1_train_score</th>\n",
              "      <th>split2_train_score</th>\n",
              "      <th>split3_train_score</th>\n",
              "      <th>split4_train_score</th>\n",
              "      <th>mean_train_score</th>\n",
              "      <th>std_train_score</th>\n",
              "    </tr>\n",
              "  </thead>\n",
              "  <tbody>\n",
              "    <tr>\n",
              "      <th>0</th>\n",
              "      <td>0.164142</td>\n",
              "      <td>0.022749</td>\n",
              "      <td>0.002082</td>\n",
              "      <td>0.000039</td>\n",
              "      <td>0.8</td>\n",
              "      <td>linear</td>\n",
              "      <td>{'C': 0.8, 'kernel': 'linear'}</td>\n",
              "      <td>0.856184</td>\n",
              "      <td>0.854968</td>\n",
              "      <td>0.816020</td>\n",
              "      <td>...</td>\n",
              "      <td>0.836945</td>\n",
              "      <td>0.044203</td>\n",
              "      <td>1</td>\n",
              "      <td>0.857518</td>\n",
              "      <td>0.852026</td>\n",
              "      <td>0.847763</td>\n",
              "      <td>0.858076</td>\n",
              "      <td>0.890651</td>\n",
              "      <td>0.861207</td>\n",
              "      <td>0.015201</td>\n",
              "    </tr>\n",
              "    <tr>\n",
              "      <th>2</th>\n",
              "      <td>0.191363</td>\n",
              "      <td>0.034767</td>\n",
              "      <td>0.002117</td>\n",
              "      <td>0.000127</td>\n",
              "      <td>0.9</td>\n",
              "      <td>linear</td>\n",
              "      <td>{'C': 0.9, 'kernel': 'linear'}</td>\n",
              "      <td>0.856184</td>\n",
              "      <td>0.854968</td>\n",
              "      <td>0.816020</td>\n",
              "      <td>...</td>\n",
              "      <td>0.836945</td>\n",
              "      <td>0.044203</td>\n",
              "      <td>1</td>\n",
              "      <td>0.857518</td>\n",
              "      <td>0.852026</td>\n",
              "      <td>0.847763</td>\n",
              "      <td>0.858076</td>\n",
              "      <td>0.885588</td>\n",
              "      <td>0.860194</td>\n",
              "      <td>0.013249</td>\n",
              "    </tr>\n",
              "    <tr>\n",
              "      <th>4</th>\n",
              "      <td>0.206109</td>\n",
              "      <td>0.038704</td>\n",
              "      <td>0.002061</td>\n",
              "      <td>0.000012</td>\n",
              "      <td>1</td>\n",
              "      <td>linear</td>\n",
              "      <td>{'C': 1, 'kernel': 'linear'}</td>\n",
              "      <td>0.856184</td>\n",
              "      <td>0.811297</td>\n",
              "      <td>0.816020</td>\n",
              "      <td>...</td>\n",
              "      <td>0.828102</td>\n",
              "      <td>0.044081</td>\n",
              "      <td>3</td>\n",
              "      <td>0.852446</td>\n",
              "      <td>0.852446</td>\n",
              "      <td>0.847763</td>\n",
              "      <td>0.858076</td>\n",
              "      <td>0.885588</td>\n",
              "      <td>0.859264</td>\n",
              "      <td>0.013562</td>\n",
              "    </tr>\n",
              "    <tr>\n",
              "      <th>1</th>\n",
              "      <td>0.005385</td>\n",
              "      <td>0.000326</td>\n",
              "      <td>0.002131</td>\n",
              "      <td>0.000160</td>\n",
              "      <td>0.8</td>\n",
              "      <td>rbf</td>\n",
              "      <td>{'C': 0.8, 'kernel': 'rbf'}</td>\n",
              "      <td>0.346667</td>\n",
              "      <td>0.346667</td>\n",
              "      <td>0.346667</td>\n",
              "      <td>...</td>\n",
              "      <td>0.345941</td>\n",
              "      <td>0.001742</td>\n",
              "      <td>4</td>\n",
              "      <td>1.000000</td>\n",
              "      <td>1.000000</td>\n",
              "      <td>1.000000</td>\n",
              "      <td>1.000000</td>\n",
              "      <td>1.000000</td>\n",
              "      <td>1.000000</td>\n",
              "      <td>0.000000</td>\n",
              "    </tr>\n",
              "    <tr>\n",
              "      <th>3</th>\n",
              "      <td>0.005074</td>\n",
              "      <td>0.000047</td>\n",
              "      <td>0.002014</td>\n",
              "      <td>0.000094</td>\n",
              "      <td>0.9</td>\n",
              "      <td>rbf</td>\n",
              "      <td>{'C': 0.9, 'kernel': 'rbf'}</td>\n",
              "      <td>0.346667</td>\n",
              "      <td>0.346667</td>\n",
              "      <td>0.346667</td>\n",
              "      <td>...</td>\n",
              "      <td>0.345941</td>\n",
              "      <td>0.001742</td>\n",
              "      <td>4</td>\n",
              "      <td>1.000000</td>\n",
              "      <td>1.000000</td>\n",
              "      <td>1.000000</td>\n",
              "      <td>1.000000</td>\n",
              "      <td>1.000000</td>\n",
              "      <td>1.000000</td>\n",
              "      <td>0.000000</td>\n",
              "    </tr>\n",
              "  </tbody>\n",
              "</table>\n",
              "<p>5 rows × 22 columns</p>\n",
              "</div>"
            ],
            "text/plain": [
              "   mean_fit_time  std_fit_time  mean_score_time  std_score_time param_C  \\\n",
              "0       0.164142      0.022749         0.002082        0.000039     0.8   \n",
              "2       0.191363      0.034767         0.002117        0.000127     0.9   \n",
              "4       0.206109      0.038704         0.002061        0.000012       1   \n",
              "1       0.005385      0.000326         0.002131        0.000160     0.8   \n",
              "3       0.005074      0.000047         0.002014        0.000094     0.9   \n",
              "\n",
              "  param_kernel                          params  split0_test_score  \\\n",
              "0       linear  {'C': 0.8, 'kernel': 'linear'}           0.856184   \n",
              "2       linear  {'C': 0.9, 'kernel': 'linear'}           0.856184   \n",
              "4       linear    {'C': 1, 'kernel': 'linear'}           0.856184   \n",
              "1          rbf     {'C': 0.8, 'kernel': 'rbf'}           0.346667   \n",
              "3          rbf     {'C': 0.9, 'kernel': 'rbf'}           0.346667   \n",
              "\n",
              "   split1_test_score  split2_test_score  ...  mean_test_score  std_test_score  \\\n",
              "0           0.854968           0.816020  ...         0.836945        0.044203   \n",
              "2           0.854968           0.816020  ...         0.836945        0.044203   \n",
              "4           0.811297           0.816020  ...         0.828102        0.044081   \n",
              "1           0.346667           0.346667  ...         0.345941        0.001742   \n",
              "3           0.346667           0.346667  ...         0.345941        0.001742   \n",
              "\n",
              "   rank_test_score  split0_train_score  split1_train_score  \\\n",
              "0                1            0.857518            0.852026   \n",
              "2                1            0.857518            0.852026   \n",
              "4                3            0.852446            0.852446   \n",
              "1                4            1.000000            1.000000   \n",
              "3                4            1.000000            1.000000   \n",
              "\n",
              "   split2_train_score  split3_train_score  split4_train_score  \\\n",
              "0            0.847763            0.858076            0.890651   \n",
              "2            0.847763            0.858076            0.885588   \n",
              "4            0.847763            0.858076            0.885588   \n",
              "1            1.000000            1.000000            1.000000   \n",
              "3            1.000000            1.000000            1.000000   \n",
              "\n",
              "   mean_train_score  std_train_score  \n",
              "0          0.861207         0.015201  \n",
              "2          0.860194         0.013249  \n",
              "4          0.859264         0.013562  \n",
              "1          1.000000         0.000000  \n",
              "3          1.000000         0.000000  \n",
              "\n",
              "[5 rows x 22 columns]"
            ]
          },
          "metadata": {
            "tags": []
          },
          "execution_count": 45
        }
      ]
    },
    {
      "cell_type": "code",
      "metadata": {
        "id": "iuZEoL3eek-c",
        "colab_type": "code",
        "colab": {
          "base_uri": "https://localhost:8080/",
          "height": 85
        },
        "outputId": "a2a1684d-6a38-4a5a-fd6e-b44524b30cd6"
      },
      "source": [
        "#before gridsearch\n",
        "#accuracy:0.8429012345679011\n",
        "#Precision Score:0.8336434108527131\n",
        "#Recall Score0.8831672203765226\n",
        "#f1:0.8562521065048871\n",
        "\n",
        "from sklearn.model_selection import cross_val_score\n",
        "print(\"accuracy:\"+str(np.average(cross_val_score(clf, train_x, train_y, scoring='accuracy'))))\n",
        "print(\"f1:\"+str(np.average(cross_val_score(clf, train_x, train_y, scoring='f1'))))\n",
        "print(\"Precision Score:\"+str(np.average(cross_val_score(clf, train_x, train_y, scoring='precision'))))\n",
        "print(\"Recall Score\"+str(np.average(cross_val_score(clf, train_x, train_y, scoring='recall'))))\n"
      ],
      "execution_count": 53,
      "outputs": [
        {
          "output_type": "stream",
          "text": [
            "accuracy:0.8429012345679011\n",
            "f1:0.8562521065048871\n",
            "Precision Score:0.8336434108527131\n",
            "Recall Score0.8831672203765226\n"
          ],
          "name": "stdout"
        }
      ]
    },
    {
      "cell_type": "markdown",
      "metadata": {
        "id": "CESA_iIp2Hse",
        "colab_type": "text"
      },
      "source": [
        "##AutoML\n",
        "\n",
        "###h2o\n",
        "\n",
        "**XGBoost is the best performed model in this case.**\n"
      ]
    },
    {
      "cell_type": "code",
      "metadata": {
        "id": "4c9vOdL43f6H",
        "colab_type": "code",
        "outputId": "c98d1290-7ef9-44a6-c3ea-edb7014ab8fd",
        "colab": {
          "base_uri": "https://localhost:8080/",
          "height": 228
        }
      },
      "source": [
        "!pip -q install requests\n",
        "\n",
        "!pip -q install tabulate\n",
        "!pip -q install \"colorama>=0.3.8\"\n",
        "!pip -q install future\n",
        "!pip -q install -f http://h2o-release.s3.amazonaws.com/h2o/latest_stable_Py.html h2o"
      ],
      "execution_count": 30,
      "outputs": [
        {
          "output_type": "stream",
          "text": [
            "\u001b[33m  WARNING: The repository located at h2o-release.s3.amazonaws.com is not a trusted or secure host and is being ignored. If this repository is available via HTTPS we recommend you use HTTPS instead, otherwise you may silence this warning and allow it anyway with '--trusted-host h2o-release.s3.amazonaws.com'.\u001b[0m\n",
            "\u001b[K     |████████████████████████████████| 121.0MB 208kB/s \n",
            "\u001b[?25h  Building wheel for h2o (setup.py) ... \u001b[?25l\u001b[?25hdone\n"
          ],
          "name": "stdout"
        }
      ]
    },
    {
      "cell_type": "code",
      "metadata": {
        "id": "Yc3AUpNz3kYI",
        "colab_type": "code",
        "outputId": "df96857e-8cc3-4934-f6d4-faed24b54275",
        "colab": {
          "base_uri": "https://localhost:8080/",
          "height": 533
        }
      },
      "source": [
        "import h2o\n",
        "from h2o.automl import H2OAutoML\n",
        "h2o.init()"
      ],
      "execution_count": 32,
      "outputs": [
        {
          "output_type": "stream",
          "text": [
            "Checking whether there is an H2O instance running at http://localhost:54321 ..... not found.\n",
            "Attempting to start a local H2O server...\n",
            "  Java Version: openjdk version \"11.0.2\" 2019-01-15; OpenJDK Runtime Environment (build 11.0.2+9-Ubuntu-3ubuntu118.04.3); OpenJDK 64-Bit Server VM (build 11.0.2+9-Ubuntu-3ubuntu118.04.3, mixed mode, sharing)\n",
            "  Starting server from /usr/local/lib/python3.6/dist-packages/h2o/backend/bin/h2o.jar\n",
            "  Ice root: /tmp/tmpss06326g\n",
            "  JVM stdout: /tmp/tmpss06326g/h2o_unknownUser_started_from_python.out\n",
            "  JVM stderr: /tmp/tmpss06326g/h2o_unknownUser_started_from_python.err\n",
            "  Server is running at http://127.0.0.1:54321\n",
            "Connecting to H2O server at http://127.0.0.1:54321 ... successful.\n"
          ],
          "name": "stdout"
        },
        {
          "output_type": "display_data",
          "data": {
            "text/html": [
              "<div style=\"overflow:auto\"><table style=\"width:50%\"><tr><td>H2O cluster uptime:</td>\n",
              "<td>02 secs</td></tr>\n",
              "<tr><td>H2O cluster timezone:</td>\n",
              "<td>Etc/UTC</td></tr>\n",
              "<tr><td>H2O data parsing timezone:</td>\n",
              "<td>UTC</td></tr>\n",
              "<tr><td>H2O cluster version:</td>\n",
              "<td>3.24.0.2</td></tr>\n",
              "<tr><td>H2O cluster version age:</td>\n",
              "<td>17 days </td></tr>\n",
              "<tr><td>H2O cluster name:</td>\n",
              "<td>H2O_from_python_unknownUser_pg13md</td></tr>\n",
              "<tr><td>H2O cluster total nodes:</td>\n",
              "<td>1</td></tr>\n",
              "<tr><td>H2O cluster free memory:</td>\n",
              "<td>3 Gb</td></tr>\n",
              "<tr><td>H2O cluster total cores:</td>\n",
              "<td>2</td></tr>\n",
              "<tr><td>H2O cluster allowed cores:</td>\n",
              "<td>2</td></tr>\n",
              "<tr><td>H2O cluster status:</td>\n",
              "<td>accepting new members, healthy</td></tr>\n",
              "<tr><td>H2O connection url:</td>\n",
              "<td>http://127.0.0.1:54321</td></tr>\n",
              "<tr><td>H2O connection proxy:</td>\n",
              "<td>None</td></tr>\n",
              "<tr><td>H2O internal security:</td>\n",
              "<td>False</td></tr>\n",
              "<tr><td>H2O API Extensions:</td>\n",
              "<td>Amazon S3, XGBoost, Algos, AutoML, Core V3, Core V4</td></tr>\n",
              "<tr><td>Python version:</td>\n",
              "<td>3.6.7 final</td></tr></table></div>"
            ],
            "text/plain": [
              "--------------------------  ---------------------------------------------------\n",
              "H2O cluster uptime:         02 secs\n",
              "H2O cluster timezone:       Etc/UTC\n",
              "H2O data parsing timezone:  UTC\n",
              "H2O cluster version:        3.24.0.2\n",
              "H2O cluster version age:    17 days\n",
              "H2O cluster name:           H2O_from_python_unknownUser_pg13md\n",
              "H2O cluster total nodes:    1\n",
              "H2O cluster free memory:    3 Gb\n",
              "H2O cluster total cores:    2\n",
              "H2O cluster allowed cores:  2\n",
              "H2O cluster status:         accepting new members, healthy\n",
              "H2O connection url:         http://127.0.0.1:54321\n",
              "H2O connection proxy:\n",
              "H2O internal security:      False\n",
              "H2O API Extensions:         Amazon S3, XGBoost, Algos, AutoML, Core V3, Core V4\n",
              "Python version:             3.6.7 final\n",
              "--------------------------  ---------------------------------------------------"
            ]
          },
          "metadata": {
            "tags": []
          }
        }
      ]
    },
    {
      "cell_type": "markdown",
      "metadata": {
        "id": "ndgW9CQR5P2l",
        "colab_type": "text"
      },
      "source": [
        "###Model"
      ]
    },
    {
      "cell_type": "code",
      "metadata": {
        "id": "sVX3e_ZNkyW9",
        "colab_type": "code",
        "colab": {
          "base_uri": "https://localhost:8080/",
          "height": 34
        },
        "outputId": "595ec2ec-c2ff-4b09-9113-b696e0abcada"
      },
      "source": [
        "df1 = h2o.import_file(\"https://raw.githubusercontent.com/irislqy/Classification_Business_cases/master/heart.csv\")"
      ],
      "execution_count": 40,
      "outputs": [
        {
          "output_type": "stream",
          "text": [
            "Parse progress: |█████████████████████████████████████████████████████████| 100%\n"
          ],
          "name": "stdout"
        }
      ]
    },
    {
      "cell_type": "code",
      "metadata": {
        "id": "vtzb049emCWu",
        "colab_type": "code",
        "colab": {
          "base_uri": "https://localhost:8080/",
          "height": 250
        },
        "outputId": "1fc9df11-432c-4074-9fba-5eda938cf1bc"
      },
      "source": [
        "df1.head()"
      ],
      "execution_count": 62,
      "outputs": [
        {
          "output_type": "display_data",
          "data": {
            "text/html": [
              "<table>\n",
              "<thead>\n",
              "<tr><th style=\"text-align: right;\">  ﻿age</th><th style=\"text-align: right;\">  sex</th><th style=\"text-align: right;\">  cp</th><th style=\"text-align: right;\">  trestbps</th><th style=\"text-align: right;\">  chol</th><th style=\"text-align: right;\">  fbs</th><th style=\"text-align: right;\">  restecg</th><th style=\"text-align: right;\">  thalach</th><th style=\"text-align: right;\">  exang</th><th style=\"text-align: right;\">  oldpeak</th><th style=\"text-align: right;\">  slope</th><th style=\"text-align: right;\">  ca</th><th style=\"text-align: right;\">  thal</th><th style=\"text-align: right;\">  target</th></tr>\n",
              "</thead>\n",
              "<tbody>\n",
              "<tr><td style=\"text-align: right;\">    63</td><td style=\"text-align: right;\">    1</td><td style=\"text-align: right;\">   3</td><td style=\"text-align: right;\">       145</td><td style=\"text-align: right;\">   233</td><td style=\"text-align: right;\">    1</td><td style=\"text-align: right;\">        0</td><td style=\"text-align: right;\">      150</td><td style=\"text-align: right;\">      0</td><td style=\"text-align: right;\">      2.3</td><td style=\"text-align: right;\">      0</td><td style=\"text-align: right;\">   0</td><td style=\"text-align: right;\">     1</td><td style=\"text-align: right;\">       1</td></tr>\n",
              "<tr><td style=\"text-align: right;\">    37</td><td style=\"text-align: right;\">    1</td><td style=\"text-align: right;\">   2</td><td style=\"text-align: right;\">       130</td><td style=\"text-align: right;\">   250</td><td style=\"text-align: right;\">    0</td><td style=\"text-align: right;\">        1</td><td style=\"text-align: right;\">      187</td><td style=\"text-align: right;\">      0</td><td style=\"text-align: right;\">      3.5</td><td style=\"text-align: right;\">      0</td><td style=\"text-align: right;\">   0</td><td style=\"text-align: right;\">     2</td><td style=\"text-align: right;\">       1</td></tr>\n",
              "<tr><td style=\"text-align: right;\">    41</td><td style=\"text-align: right;\">    0</td><td style=\"text-align: right;\">   1</td><td style=\"text-align: right;\">       130</td><td style=\"text-align: right;\">   204</td><td style=\"text-align: right;\">    0</td><td style=\"text-align: right;\">        0</td><td style=\"text-align: right;\">      172</td><td style=\"text-align: right;\">      0</td><td style=\"text-align: right;\">      1.4</td><td style=\"text-align: right;\">      2</td><td style=\"text-align: right;\">   0</td><td style=\"text-align: right;\">     2</td><td style=\"text-align: right;\">       1</td></tr>\n",
              "<tr><td style=\"text-align: right;\">    56</td><td style=\"text-align: right;\">    1</td><td style=\"text-align: right;\">   1</td><td style=\"text-align: right;\">       120</td><td style=\"text-align: right;\">   236</td><td style=\"text-align: right;\">    0</td><td style=\"text-align: right;\">        1</td><td style=\"text-align: right;\">      178</td><td style=\"text-align: right;\">      0</td><td style=\"text-align: right;\">      0.8</td><td style=\"text-align: right;\">      2</td><td style=\"text-align: right;\">   0</td><td style=\"text-align: right;\">     2</td><td style=\"text-align: right;\">       1</td></tr>\n",
              "<tr><td style=\"text-align: right;\">    57</td><td style=\"text-align: right;\">    0</td><td style=\"text-align: right;\">   0</td><td style=\"text-align: right;\">       120</td><td style=\"text-align: right;\">   354</td><td style=\"text-align: right;\">    0</td><td style=\"text-align: right;\">        1</td><td style=\"text-align: right;\">      163</td><td style=\"text-align: right;\">      1</td><td style=\"text-align: right;\">      0.6</td><td style=\"text-align: right;\">      2</td><td style=\"text-align: right;\">   0</td><td style=\"text-align: right;\">     2</td><td style=\"text-align: right;\">       1</td></tr>\n",
              "<tr><td style=\"text-align: right;\">    57</td><td style=\"text-align: right;\">    1</td><td style=\"text-align: right;\">   0</td><td style=\"text-align: right;\">       140</td><td style=\"text-align: right;\">   192</td><td style=\"text-align: right;\">    0</td><td style=\"text-align: right;\">        1</td><td style=\"text-align: right;\">      148</td><td style=\"text-align: right;\">      0</td><td style=\"text-align: right;\">      0.4</td><td style=\"text-align: right;\">      1</td><td style=\"text-align: right;\">   0</td><td style=\"text-align: right;\">     1</td><td style=\"text-align: right;\">       1</td></tr>\n",
              "<tr><td style=\"text-align: right;\">    56</td><td style=\"text-align: right;\">    0</td><td style=\"text-align: right;\">   1</td><td style=\"text-align: right;\">       140</td><td style=\"text-align: right;\">   294</td><td style=\"text-align: right;\">    0</td><td style=\"text-align: right;\">        0</td><td style=\"text-align: right;\">      153</td><td style=\"text-align: right;\">      0</td><td style=\"text-align: right;\">      1.3</td><td style=\"text-align: right;\">      1</td><td style=\"text-align: right;\">   0</td><td style=\"text-align: right;\">     2</td><td style=\"text-align: right;\">       1</td></tr>\n",
              "<tr><td style=\"text-align: right;\">    44</td><td style=\"text-align: right;\">    1</td><td style=\"text-align: right;\">   1</td><td style=\"text-align: right;\">       120</td><td style=\"text-align: right;\">   263</td><td style=\"text-align: right;\">    0</td><td style=\"text-align: right;\">        1</td><td style=\"text-align: right;\">      173</td><td style=\"text-align: right;\">      0</td><td style=\"text-align: right;\">      0  </td><td style=\"text-align: right;\">      2</td><td style=\"text-align: right;\">   0</td><td style=\"text-align: right;\">     3</td><td style=\"text-align: right;\">       1</td></tr>\n",
              "<tr><td style=\"text-align: right;\">    52</td><td style=\"text-align: right;\">    1</td><td style=\"text-align: right;\">   2</td><td style=\"text-align: right;\">       172</td><td style=\"text-align: right;\">   199</td><td style=\"text-align: right;\">    1</td><td style=\"text-align: right;\">        1</td><td style=\"text-align: right;\">      162</td><td style=\"text-align: right;\">      0</td><td style=\"text-align: right;\">      0.5</td><td style=\"text-align: right;\">      2</td><td style=\"text-align: right;\">   0</td><td style=\"text-align: right;\">     3</td><td style=\"text-align: right;\">       1</td></tr>\n",
              "<tr><td style=\"text-align: right;\">    57</td><td style=\"text-align: right;\">    1</td><td style=\"text-align: right;\">   2</td><td style=\"text-align: right;\">       150</td><td style=\"text-align: right;\">   168</td><td style=\"text-align: right;\">    0</td><td style=\"text-align: right;\">        1</td><td style=\"text-align: right;\">      174</td><td style=\"text-align: right;\">      0</td><td style=\"text-align: right;\">      1.6</td><td style=\"text-align: right;\">      2</td><td style=\"text-align: right;\">   0</td><td style=\"text-align: right;\">     2</td><td style=\"text-align: right;\">       1</td></tr>\n",
              "</tbody>\n",
              "</table>"
            ]
          },
          "metadata": {
            "tags": []
          }
        },
        {
          "output_type": "execute_result",
          "data": {
            "text/plain": [
              ""
            ]
          },
          "metadata": {
            "tags": []
          },
          "execution_count": 62
        }
      ]
    },
    {
      "cell_type": "code",
      "metadata": {
        "id": "h4F8UEQ03om9",
        "colab_type": "code",
        "colab": {}
      },
      "source": [
        "#enum\n",
        "df1['target'] = df1['target'].asfactor()"
      ],
      "execution_count": 0,
      "outputs": []
    },
    {
      "cell_type": "code",
      "metadata": {
        "id": "prrtgh6E5REn",
        "colab_type": "code",
        "colab": {}
      },
      "source": [
        "# Randomly split the data into 75% training and 25% testing.\n",
        "train, test = df1.split_frame(ratios=[0.9], seed=1234)\n",
        "\n",
        "# Now train the baseline model.\n",
        "# We will train a GBM model with early stopping.\n",
        "from h2o.estimators.gbm import H2OGradientBoostingEstimator\n",
        "x = train.columns\n",
        "y = \"target\"\n",
        "x.remove(y)"
      ],
      "execution_count": 0,
      "outputs": []
    },
    {
      "cell_type": "code",
      "metadata": {
        "id": "Qya8nFh151lN",
        "colab_type": "code",
        "outputId": "4c4961aa-9739-4479-fea9-4386232adb6b",
        "colab": {
          "base_uri": "https://localhost:8080/",
          "height": 34
        }
      },
      "source": [
        "#train for 5 minutes, 300 maximum number of models,\n",
        "#other parameters to set: http://docs.h2o.ai/h2o/latest-stable/h2o-docs/automl.html\n",
        "\n",
        "aml = H2OAutoML(max_models = 30, max_runtime_secs=300, seed = 1)\n",
        "aml.train(x = x, y = y, training_frame = df1)"
      ],
      "execution_count": 74,
      "outputs": [
        {
          "output_type": "stream",
          "text": [
            "AutoML progress: |████████████████████████████████████████████████████████| 100%\n"
          ],
          "name": "stdout"
        }
      ]
    },
    {
      "cell_type": "code",
      "metadata": {
        "id": "B_SXoscL6LyG",
        "colab_type": "code",
        "outputId": "34ad0439-f95b-45e9-f85b-610c9f1901cb",
        "colab": {
          "base_uri": "https://localhost:8080/",
          "height": 250
        }
      },
      "source": [
        "###Access the AutoML Leaderboard\n",
        "lb = aml.leaderboard\n",
        "lb.head() #shows the top performance model\n",
        "#lb.head(rows=lb.nrows) # Entire leaderboard"
      ],
      "execution_count": 75,
      "outputs": [
        {
          "output_type": "display_data",
          "data": {
            "text/html": [
              "<table>\n",
              "<thead>\n",
              "<tr><th>model_id                                           </th><th style=\"text-align: right;\">     auc</th><th style=\"text-align: right;\">  logloss</th><th style=\"text-align: right;\">  mean_per_class_error</th><th style=\"text-align: right;\">    rmse</th><th style=\"text-align: right;\">     mse</th></tr>\n",
              "</thead>\n",
              "<tbody>\n",
              "<tr><td>XGBoost_grid_1_AutoML_20190504_022901_model_6      </td><td style=\"text-align: right;\">0.905753</td><td style=\"text-align: right;\"> 0.38569 </td><td style=\"text-align: right;\">              0.167457</td><td style=\"text-align: right;\">0.350619</td><td style=\"text-align: right;\">0.122933</td></tr>\n",
              "<tr><td>XGBoost_grid_1_AutoML_20190504_022901_model_8      </td><td style=\"text-align: right;\">0.904567</td><td style=\"text-align: right;\"> 0.410224</td><td style=\"text-align: right;\">              0.179447</td><td style=\"text-align: right;\">0.357145</td><td style=\"text-align: right;\">0.127552</td></tr>\n",
              "<tr><td>XGBoost_1_AutoML_20190504_022901                   </td><td style=\"text-align: right;\">0.903996</td><td style=\"text-align: right;\"> 0.391297</td><td style=\"text-align: right;\">              0.18307 </td><td style=\"text-align: right;\">0.352966</td><td style=\"text-align: right;\">0.124585</td></tr>\n",
              "<tr><td>XGBoost_grid_1_AutoML_20190504_022901_model_2      </td><td style=\"text-align: right;\">0.902723</td><td style=\"text-align: right;\"> 0.390287</td><td style=\"text-align: right;\">              0.157839</td><td style=\"text-align: right;\">0.352243</td><td style=\"text-align: right;\">0.124075</td></tr>\n",
              "<tr><td>GBM_grid_1_AutoML_20190504_022901_model_3          </td><td style=\"text-align: right;\">0.902415</td><td style=\"text-align: right;\"> 0.508442</td><td style=\"text-align: right;\">              0.172925</td><td style=\"text-align: right;\">0.403139</td><td style=\"text-align: right;\">0.162521</td></tr>\n",
              "<tr><td>XGBoost_2_AutoML_20190504_022901                   </td><td style=\"text-align: right;\">0.902218</td><td style=\"text-align: right;\"> 0.421309</td><td style=\"text-align: right;\">              0.195125</td><td style=\"text-align: right;\">0.361486</td><td style=\"text-align: right;\">0.130672</td></tr>\n",
              "<tr><td>StackedEnsemble_BestOfFamily_AutoML_20190504_022901</td><td style=\"text-align: right;\">0.901669</td><td style=\"text-align: right;\"> 0.395005</td><td style=\"text-align: right;\">              0.173518</td><td style=\"text-align: right;\">0.356186</td><td style=\"text-align: right;\">0.126868</td></tr>\n",
              "<tr><td>StackedEnsemble_AllModels_AutoML_20190504_022901   </td><td style=\"text-align: right;\">0.899429</td><td style=\"text-align: right;\"> 0.40678 </td><td style=\"text-align: right;\">              0.175296</td><td style=\"text-align: right;\">0.356497</td><td style=\"text-align: right;\">0.12709 </td></tr>\n",
              "<tr><td>XGBoost_3_AutoML_20190504_022901                   </td><td style=\"text-align: right;\">0.89877 </td><td style=\"text-align: right;\"> 0.405035</td><td style=\"text-align: right;\">              0.17108 </td><td style=\"text-align: right;\">0.358167</td><td style=\"text-align: right;\">0.128283</td></tr>\n",
              "<tr><td>XGBoost_grid_1_AutoML_20190504_022901_model_5      </td><td style=\"text-align: right;\">0.893368</td><td style=\"text-align: right;\"> 0.408696</td><td style=\"text-align: right;\">              0.192161</td><td style=\"text-align: right;\">0.36246 </td><td style=\"text-align: right;\">0.131377</td></tr>\n",
              "</tbody>\n",
              "</table>"
            ]
          },
          "metadata": {
            "tags": []
          }
        },
        {
          "output_type": "execute_result",
          "data": {
            "text/plain": [
              ""
            ]
          },
          "metadata": {
            "tags": []
          },
          "execution_count": 75
        }
      ]
    },
    {
      "cell_type": "code",
      "metadata": {
        "id": "k5qWxZUN7fqF",
        "colab_type": "code",
        "outputId": "99f05ef1-758f-4894-fdae-c2e8b3deaa82",
        "colab": {
          "base_uri": "https://localhost:8080/",
          "height": 34
        }
      },
      "source": [
        "#Best Model: XGBoost_grid_1_AutoML_20190502_185631_model_6 \n",
        "#Prediction \n",
        "preds = aml.predict(test)"
      ],
      "execution_count": 76,
      "outputs": [
        {
          "output_type": "stream",
          "text": [
            "xgboost prediction progress: |████████████████████████████████████████████| 100%\n"
          ],
          "name": "stdout"
        }
      ]
    },
    {
      "cell_type": "code",
      "metadata": {
        "id": "5Cjnlqyj84__",
        "colab_type": "code",
        "outputId": "598aa04d-fbe3-4afb-bc67-ed3cf0f7861e",
        "colab": {
          "base_uri": "https://localhost:8080/",
          "height": 250
        }
      },
      "source": [
        "preds"
      ],
      "execution_count": 77,
      "outputs": [
        {
          "output_type": "display_data",
          "data": {
            "text/html": [
              "<table>\n",
              "<thead>\n",
              "<tr><th style=\"text-align: right;\">  predict</th><th style=\"text-align: right;\">       p0</th><th style=\"text-align: right;\">      p1</th></tr>\n",
              "</thead>\n",
              "<tbody>\n",
              "<tr><td style=\"text-align: right;\">        1</td><td style=\"text-align: right;\">0.0774726</td><td style=\"text-align: right;\">0.922527</td></tr>\n",
              "<tr><td style=\"text-align: right;\">        1</td><td style=\"text-align: right;\">0.0871063</td><td style=\"text-align: right;\">0.912894</td></tr>\n",
              "<tr><td style=\"text-align: right;\">        1</td><td style=\"text-align: right;\">0.162652 </td><td style=\"text-align: right;\">0.837348</td></tr>\n",
              "<tr><td style=\"text-align: right;\">        1</td><td style=\"text-align: right;\">0.226922 </td><td style=\"text-align: right;\">0.773078</td></tr>\n",
              "<tr><td style=\"text-align: right;\">        1</td><td style=\"text-align: right;\">0.144026 </td><td style=\"text-align: right;\">0.855974</td></tr>\n",
              "<tr><td style=\"text-align: right;\">        1</td><td style=\"text-align: right;\">0.0359757</td><td style=\"text-align: right;\">0.964024</td></tr>\n",
              "<tr><td style=\"text-align: right;\">        1</td><td style=\"text-align: right;\">0.0870981</td><td style=\"text-align: right;\">0.912902</td></tr>\n",
              "<tr><td style=\"text-align: right;\">        1</td><td style=\"text-align: right;\">0.304982 </td><td style=\"text-align: right;\">0.695018</td></tr>\n",
              "<tr><td style=\"text-align: right;\">        1</td><td style=\"text-align: right;\">0.0904363</td><td style=\"text-align: right;\">0.909564</td></tr>\n",
              "<tr><td style=\"text-align: right;\">        1</td><td style=\"text-align: right;\">0.214166 </td><td style=\"text-align: right;\">0.785834</td></tr>\n",
              "</tbody>\n",
              "</table>"
            ]
          },
          "metadata": {
            "tags": []
          }
        },
        {
          "output_type": "execute_result",
          "data": {
            "text/plain": [
              ""
            ]
          },
          "metadata": {
            "tags": []
          },
          "execution_count": 77
        }
      ]
    },
    {
      "cell_type": "code",
      "metadata": {
        "id": "AIiVG_2R78QJ",
        "colab_type": "code",
        "colab": {}
      },
      "source": [
        "#save leader model\n",
        "#h2o.save_model(aml.leader, path = \"./Loan_Pred_Model_III_shaz13\")"
      ],
      "execution_count": 0,
      "outputs": []
    },
    {
      "cell_type": "markdown",
      "metadata": {
        "id": "AgIrZ0bqfvWc",
        "colab_type": "text"
      },
      "source": [
        "##Conclusion\n",
        "\n",
        "**1. GridSearchCV without enough generations does not yield a better model. Heart Diasease diagnosis case is more sensitive to false negative, we should control the Recall score at a safer threshold. The important measurements of the model should be Recall and Accuracy Score**\n",
        "\n",
        "\n",
        "\n",
        "\n",
        "**2. H2o is a powerful AutoML tool which can select the best performing model in a certain time limits. If the real business case require a quick decision making, AutoML could step in to pick the best five or ten performing models and do the following comparison for precision and recall score to pick the best applicable model. **"
      ]
    }
  ]
}