{
  "nbformat": 4,
  "nbformat_minor": 0,
  "metadata": {
    "colab": {
      "name": "“453_Group_9_ipynb”.ipynb",
      "version": "0.3.2",
      "provenance": [],
      "collapsed_sections": [],
      "include_colab_link": true
    },
    "kernelspec": {
      "name": "python3",
      "display_name": "Python 3"
    }
  },
  "cells": [
    {
      "cell_type": "markdown",
      "metadata": {
        "id": "view-in-github",
        "colab_type": "text"
      },
      "source": [
        "<a href=\"https://colab.research.google.com/github/irislqy/Classification_Business_cases/blob/master/Diabetes.ipynb\" target=\"_parent\"><img src=\"https://colab.research.google.com/assets/colab-badge.svg\" alt=\"Open In Colab\"/></a>"
      ]
    },
    {
      "cell_type": "markdown",
      "metadata": {
        "id": "FuUGqsY7VwxB",
        "colab_type": "text"
      },
      "source": [
        "1.  Develop ML Binary Classification models in Python, using Jupyter Notebook or any other tool of your choice. Apply LogisticRegression, SVM, RandomForest classification algorithms. Apply Data Science Process Model as a guide. (40 points)\n",
        "2. Apply GridSearchCV to find the best hyperparameters for your models. (15 points)\n",
        "3. Assess model performance (confusion matrix, precision, recall, ROC AUC) and interpret performance from business\n",
        "impact viewpoint (false negatives vs false positives). (10 points)\n",
        "4. Apply AutoML (Auto sklearn) to build classification model and compare model performance. (10 points)"
      ]
    },
    {
      "cell_type": "markdown",
      "metadata": {
        "id": "ETjipgQ3oPkd",
        "colab_type": "text"
      },
      "source": [
        "## Classfication Model"
      ]
    },
    {
      "cell_type": "markdown",
      "metadata": {
        "id": "rUdZZK555FQh",
        "colab_type": "text"
      },
      "source": [
        "###Import Dataset"
      ]
    },
    {
      "cell_type": "code",
      "metadata": {
        "id": "m49hzKFE45QC",
        "colab_type": "code",
        "outputId": "e86af887-36ec-446b-ff04-e173d5aa2a4e",
        "colab": {
          "base_uri": "https://localhost:8080/",
          "height": 34
        }
      },
      "source": [
        "df = h2o.import_file(\"https://raw.githubusercontent.com/irislqy/Classification_Business_cases/master/diabetes.csv\")"
      ],
      "execution_count": 0,
      "outputs": [
        {
          "output_type": "stream",
          "text": [
            "Parse progress: |█████████████████████████████████████████████████████████| 100%\n"
          ],
          "name": "stdout"
        }
      ]
    },
    {
      "cell_type": "markdown",
      "metadata": {
        "id": "xkmlLyqhqAy5",
        "colab_type": "text"
      },
      "source": [
        "###Import modules"
      ]
    },
    {
      "cell_type": "code",
      "metadata": {
        "id": "QDQHEidmqQrg",
        "colab_type": "code",
        "colab": {}
      },
      "source": [
        "#import\n",
        "\n",
        "#pandas\n",
        "import pandas as pd\n",
        "\n",
        "#numpy, matplotlib, seaborn\n",
        "import numpy as np\n",
        "import matplotlib.pyplot as plt\n",
        "import seaborn as sns\n",
        "sns.set_style('whitegrid')\n",
        "%matplotlib inline\n",
        "\n",
        "import time\n",
        "import random\n",
        "import sklearn\n",
        "\n",
        "\n",
        "#machine learning\n",
        "from sklearn.linear_model import LogisticRegression\n",
        "from sklearn.svm import SVC, LinearSVC\n",
        "from sklearn.ensemble import RandomForestClassifier\n",
        "from sklearn.neighbors import KNeighborsClassifier\n",
        "from sklearn.naive_bayes import GaussianNB\n",
        "\n",
        "\n",
        "from sklearn.model_selection import train_test_split\n",
        "from imblearn.over_sampling import SMOTE\n",
        "\n",
        "\n",
        "from yellowbrick.features import RFECV\n",
        "import statsmodels.formula.api as smf\n",
        "\n",
        "from sklearn.model_selection import StratifiedKFold\n",
        "from sklearn.model_selection import GridSearchCV\n",
        "\n",
        "\n",
        "from sklearn import metrics\n",
        "from sklearn.metrics import mean_absolute_error, accuracy_score\n",
        "\n",
        "\n",
        "import warnings\n",
        "warnings.filterwarnings('ignore')\n",
        "\n",
        "from sklearn.model_selection import train_test_split\n",
        "from sklearn.linear_model import LogisticRegression\n",
        "from sklearn.ensemble import RandomForestClassifier\n",
        "from sklearn.metrics import accuracy_score\n",
        "from sklearn.tree import DecisionTreeClassifier\n",
        "\n",
        "from sklearn import svm, tree, linear_model, neighbors, naive_bayes, ensemble, discriminant_analysis, gaussian_process\n",
        "from xgboost import XGBClassifier\n",
        "\n",
        "from sklearn.metrics import roc_curve, auc"
      ],
      "execution_count": 0,
      "outputs": []
    },
    {
      "cell_type": "code",
      "metadata": {
        "id": "okFQFF9F2GQD",
        "colab_type": "code",
        "outputId": "91c8222b-91a2-4743-9eae-c7bee3b63f68",
        "colab": {
          "base_uri": "https://localhost:8080/",
          "height": 250
        }
      },
      "source": [
        "df.head()"
      ],
      "execution_count": 0,
      "outputs": [
        {
          "output_type": "display_data",
          "data": {
            "text/html": [
              "<table>\n",
              "<thead>\n",
              "<tr><th style=\"text-align: right;\">  Pregnancies</th><th style=\"text-align: right;\">  Glucose</th><th style=\"text-align: right;\">  BloodPressure</th><th style=\"text-align: right;\">  SkinThickness</th><th style=\"text-align: right;\">  Insulin</th><th style=\"text-align: right;\">  BMI</th><th style=\"text-align: right;\">  DiabetesPedigreeFunction</th><th style=\"text-align: right;\">  Age</th><th style=\"text-align: right;\">  Outcome</th></tr>\n",
              "</thead>\n",
              "<tbody>\n",
              "<tr><td style=\"text-align: right;\">            6</td><td style=\"text-align: right;\">      148</td><td style=\"text-align: right;\">             72</td><td style=\"text-align: right;\">             35</td><td style=\"text-align: right;\">        0</td><td style=\"text-align: right;\"> 33.6</td><td style=\"text-align: right;\">                     0.627</td><td style=\"text-align: right;\">   50</td><td style=\"text-align: right;\">        1</td></tr>\n",
              "<tr><td style=\"text-align: right;\">            1</td><td style=\"text-align: right;\">       85</td><td style=\"text-align: right;\">             66</td><td style=\"text-align: right;\">             29</td><td style=\"text-align: right;\">        0</td><td style=\"text-align: right;\"> 26.6</td><td style=\"text-align: right;\">                     0.351</td><td style=\"text-align: right;\">   31</td><td style=\"text-align: right;\">        0</td></tr>\n",
              "<tr><td style=\"text-align: right;\">            8</td><td style=\"text-align: right;\">      183</td><td style=\"text-align: right;\">             64</td><td style=\"text-align: right;\">              0</td><td style=\"text-align: right;\">        0</td><td style=\"text-align: right;\"> 23.3</td><td style=\"text-align: right;\">                     0.672</td><td style=\"text-align: right;\">   32</td><td style=\"text-align: right;\">        1</td></tr>\n",
              "<tr><td style=\"text-align: right;\">            1</td><td style=\"text-align: right;\">       89</td><td style=\"text-align: right;\">             66</td><td style=\"text-align: right;\">             23</td><td style=\"text-align: right;\">       94</td><td style=\"text-align: right;\"> 28.1</td><td style=\"text-align: right;\">                     0.167</td><td style=\"text-align: right;\">   21</td><td style=\"text-align: right;\">        0</td></tr>\n",
              "<tr><td style=\"text-align: right;\">            0</td><td style=\"text-align: right;\">      137</td><td style=\"text-align: right;\">             40</td><td style=\"text-align: right;\">             35</td><td style=\"text-align: right;\">      168</td><td style=\"text-align: right;\"> 43.1</td><td style=\"text-align: right;\">                     2.288</td><td style=\"text-align: right;\">   33</td><td style=\"text-align: right;\">        1</td></tr>\n",
              "<tr><td style=\"text-align: right;\">            5</td><td style=\"text-align: right;\">      116</td><td style=\"text-align: right;\">             74</td><td style=\"text-align: right;\">              0</td><td style=\"text-align: right;\">        0</td><td style=\"text-align: right;\"> 25.6</td><td style=\"text-align: right;\">                     0.201</td><td style=\"text-align: right;\">   30</td><td style=\"text-align: right;\">        0</td></tr>\n",
              "<tr><td style=\"text-align: right;\">            3</td><td style=\"text-align: right;\">       78</td><td style=\"text-align: right;\">             50</td><td style=\"text-align: right;\">             32</td><td style=\"text-align: right;\">       88</td><td style=\"text-align: right;\"> 31  </td><td style=\"text-align: right;\">                     0.248</td><td style=\"text-align: right;\">   26</td><td style=\"text-align: right;\">        1</td></tr>\n",
              "<tr><td style=\"text-align: right;\">           10</td><td style=\"text-align: right;\">      115</td><td style=\"text-align: right;\">              0</td><td style=\"text-align: right;\">              0</td><td style=\"text-align: right;\">        0</td><td style=\"text-align: right;\"> 35.3</td><td style=\"text-align: right;\">                     0.134</td><td style=\"text-align: right;\">   29</td><td style=\"text-align: right;\">        0</td></tr>\n",
              "<tr><td style=\"text-align: right;\">            2</td><td style=\"text-align: right;\">      197</td><td style=\"text-align: right;\">             70</td><td style=\"text-align: right;\">             45</td><td style=\"text-align: right;\">      543</td><td style=\"text-align: right;\"> 30.5</td><td style=\"text-align: right;\">                     0.158</td><td style=\"text-align: right;\">   53</td><td style=\"text-align: right;\">        1</td></tr>\n",
              "<tr><td style=\"text-align: right;\">            8</td><td style=\"text-align: right;\">      125</td><td style=\"text-align: right;\">             96</td><td style=\"text-align: right;\">              0</td><td style=\"text-align: right;\">        0</td><td style=\"text-align: right;\">  0  </td><td style=\"text-align: right;\">                     0.232</td><td style=\"text-align: right;\">   54</td><td style=\"text-align: right;\">        1</td></tr>\n",
              "</tbody>\n",
              "</table>"
            ]
          },
          "metadata": {
            "tags": []
          }
        },
        {
          "output_type": "execute_result",
          "data": {
            "text/plain": [
              ""
            ]
          },
          "metadata": {
            "tags": []
          },
          "execution_count": 7
        }
      ]
    },
    {
      "cell_type": "code",
      "metadata": {
        "id": "h4F8UEQ03om9",
        "colab_type": "code",
        "colab": {}
      },
      "source": [
        "#enum\n",
        "df['Outcome'] = df['Outcome'].asfactor()"
      ],
      "execution_count": 0,
      "outputs": []
    },
    {
      "cell_type": "markdown",
      "metadata": {
        "id": "xMD6X5CFqlMc",
        "colab_type": "text"
      },
      "source": [
        "## Logistic Regression/ Random Forest/SVM prediction"
      ]
    },
    {
      "cell_type": "code",
      "metadata": {
        "id": "nk0JqK-OuTLJ",
        "colab_type": "code",
        "colab": {}
      },
      "source": [
        "df_model= pd.read_csv(\"https://raw.githubusercontent.com/irislqy/Classification_Business_cases/master/diabetes.csv\")"
      ],
      "execution_count": 0,
      "outputs": []
    },
    {
      "cell_type": "code",
      "metadata": {
        "id": "sHAvmyqS-GKl",
        "colab_type": "code",
        "outputId": "00135872-fc69-4893-c543-398ddb16062f",
        "colab": {
          "base_uri": "https://localhost:8080/",
          "height": 204
        }
      },
      "source": [
        "df_model.head()"
      ],
      "execution_count": 0,
      "outputs": [
        {
          "output_type": "execute_result",
          "data": {
            "text/html": [
              "<div>\n",
              "<style scoped>\n",
              "    .dataframe tbody tr th:only-of-type {\n",
              "        vertical-align: middle;\n",
              "    }\n",
              "\n",
              "    .dataframe tbody tr th {\n",
              "        vertical-align: top;\n",
              "    }\n",
              "\n",
              "    .dataframe thead th {\n",
              "        text-align: right;\n",
              "    }\n",
              "</style>\n",
              "<table border=\"1\" class=\"dataframe\">\n",
              "  <thead>\n",
              "    <tr style=\"text-align: right;\">\n",
              "      <th></th>\n",
              "      <th>Pregnancies</th>\n",
              "      <th>Glucose</th>\n",
              "      <th>BloodPressure</th>\n",
              "      <th>SkinThickness</th>\n",
              "      <th>Insulin</th>\n",
              "      <th>BMI</th>\n",
              "      <th>DiabetesPedigreeFunction</th>\n",
              "      <th>Age</th>\n",
              "      <th>Outcome</th>\n",
              "    </tr>\n",
              "  </thead>\n",
              "  <tbody>\n",
              "    <tr>\n",
              "      <th>0</th>\n",
              "      <td>6</td>\n",
              "      <td>148</td>\n",
              "      <td>72</td>\n",
              "      <td>35</td>\n",
              "      <td>0</td>\n",
              "      <td>33.6</td>\n",
              "      <td>0.627</td>\n",
              "      <td>50</td>\n",
              "      <td>1</td>\n",
              "    </tr>\n",
              "    <tr>\n",
              "      <th>1</th>\n",
              "      <td>1</td>\n",
              "      <td>85</td>\n",
              "      <td>66</td>\n",
              "      <td>29</td>\n",
              "      <td>0</td>\n",
              "      <td>26.6</td>\n",
              "      <td>0.351</td>\n",
              "      <td>31</td>\n",
              "      <td>0</td>\n",
              "    </tr>\n",
              "    <tr>\n",
              "      <th>2</th>\n",
              "      <td>8</td>\n",
              "      <td>183</td>\n",
              "      <td>64</td>\n",
              "      <td>0</td>\n",
              "      <td>0</td>\n",
              "      <td>23.3</td>\n",
              "      <td>0.672</td>\n",
              "      <td>32</td>\n",
              "      <td>1</td>\n",
              "    </tr>\n",
              "    <tr>\n",
              "      <th>3</th>\n",
              "      <td>1</td>\n",
              "      <td>89</td>\n",
              "      <td>66</td>\n",
              "      <td>23</td>\n",
              "      <td>94</td>\n",
              "      <td>28.1</td>\n",
              "      <td>0.167</td>\n",
              "      <td>21</td>\n",
              "      <td>0</td>\n",
              "    </tr>\n",
              "    <tr>\n",
              "      <th>4</th>\n",
              "      <td>0</td>\n",
              "      <td>137</td>\n",
              "      <td>40</td>\n",
              "      <td>35</td>\n",
              "      <td>168</td>\n",
              "      <td>43.1</td>\n",
              "      <td>2.288</td>\n",
              "      <td>33</td>\n",
              "      <td>1</td>\n",
              "    </tr>\n",
              "  </tbody>\n",
              "</table>\n",
              "</div>"
            ],
            "text/plain": [
              "   Pregnancies  Glucose  BloodPressure  SkinThickness  Insulin   BMI  \\\n",
              "0            6      148             72             35        0  33.6   \n",
              "1            1       85             66             29        0  26.6   \n",
              "2            8      183             64              0        0  23.3   \n",
              "3            1       89             66             23       94  28.1   \n",
              "4            0      137             40             35      168  43.1   \n",
              "\n",
              "   DiabetesPedigreeFunction  Age  Outcome  \n",
              "0                     0.627   50        1  \n",
              "1                     0.351   31        0  \n",
              "2                     0.672   32        1  \n",
              "3                     0.167   21        0  \n",
              "4                     2.288   33        1  "
            ]
          },
          "metadata": {
            "tags": []
          },
          "execution_count": 5
        }
      ]
    },
    {
      "cell_type": "code",
      "metadata": {
        "id": "Yj_PdYTcqo-5",
        "colab_type": "code",
        "colab": {}
      },
      "source": [
        "features = df_model.drop(['Outcome'],axis=1)\n",
        "target = df_model.Outcome"
      ],
      "execution_count": 0,
      "outputs": []
    },
    {
      "cell_type": "code",
      "metadata": {
        "id": "kkaGEiJIuufa",
        "colab_type": "code",
        "outputId": "78db4c93-8f39-4997-b339-f24aacbfb373",
        "colab": {
          "base_uri": "https://localhost:8080/",
          "height": 34
        }
      },
      "source": [
        "# Here is the accuracy of Logistic Regression as 0.818\n",
        "train_x,test_x,train_y,test_y = train_test_split(features,target,random_state=30,test_size=0.2)\n",
        "model_Log = LogisticRegression(random_state=34)\n",
        "model_Log.fit(train_x,train_y)\n",
        "print(\"Accuracy using LogisticRegression \",accuracy_score(test_y,model_Log.predict(test_x)))"
      ],
      "execution_count": 0,
      "outputs": [
        {
          "output_type": "stream",
          "text": [
            "Accuracy using LogisticRegression  0.8181818181818182\n"
          ],
          "name": "stdout"
        }
      ]
    },
    {
      "cell_type": "code",
      "metadata": {
        "id": "j-f4Ja2tMibM",
        "colab_type": "code",
        "outputId": "b11a9374-9e5f-44f1-890c-d63d694f8c85",
        "colab": {
          "base_uri": "https://localhost:8080/",
          "height": 638
        }
      },
      "source": [
        "# ROC RUC for Logistic Regression\n",
        "predictions=model_Log.predict_proba(test_x)\n",
        "false_positive_rate, recall, thresholds = roc_curve(test_y, predictions[:, 1])\n",
        "roc_auc=auc(false_positive_rate,recall)\n",
        "plt.figure()\n",
        "lw = 2\n",
        "plt.figure(figsize=(10,10))\n",
        "plt.title('Logistic Regression: ROC RUC')\n",
        "plt.plot(false_positive_rate, recall, color='darkorange',\n",
        "         lw=lw, label='ROC curve (area = %0.2f)' % roc_auc)\n",
        "plt.legend(loc='lower right')\n",
        "plt.plot([0,1],[0,1],color='navy',lw=2, linestyle='--')\n",
        "plt.xlim([0.0,1.0])\n",
        "plt.ylim([0.0, 1.05])\n",
        "plt.ylabel('False Positive Rate')\n",
        "plt.xlabel('True Positive Rate')\n",
        "plt.show()"
      ],
      "execution_count": 0,
      "outputs": [
        {
          "output_type": "display_data",
          "data": {
            "text/plain": [
              "<Figure size 432x288 with 0 Axes>"
            ]
          },
          "metadata": {
            "tags": []
          }
        },
        {
          "output_type": "display_data",
          "data": {
            "image/png": "[encoded data removed]",
            "text/plain": [
              "<Figure size 720x720 with 1 Axes>"
            ]
          },
          "metadata": {
            "tags": []
          }
        }
      ]
    },
    {
      "cell_type": "code",
      "metadata": {
        "id": "c9xCzr3Mu6tY",
        "colab_type": "code",
        "outputId": "7a80baaf-1c31-4040-944e-b0c5c434ac43",
        "colab": {
          "base_uri": "https://localhost:8080/",
          "height": 34
        }
      },
      "source": [
        "# and here is the accuracy of Random Forest Classifier, as 0.74\n",
        "model_RFC = RandomForestClassifier(random_state=45)\n",
        "model_RFC.fit(train_x,train_y)\n",
        "print(\"Accuracy using RandomForestClassifier \",accuracy_score(test_y,model_RFC.predict(test_x)))"
      ],
      "execution_count": 0,
      "outputs": [
        {
          "output_type": "stream",
          "text": [
            "Accuracy using RandomForestClassifier  0.7467532467532467\n"
          ],
          "name": "stdout"
        }
      ]
    },
    {
      "cell_type": "code",
      "metadata": {
        "id": "M-tC_oKPORDI",
        "colab_type": "code",
        "outputId": "c9c4d660-e10b-4073-c9ad-8007b7a00a7e",
        "colab": {
          "base_uri": "https://localhost:8080/",
          "height": 638
        }
      },
      "source": [
        "# ROC RUC for Random Forest Classifier\n",
        "predictions=model_RFC.predict_proba(test_x)\n",
        "false_positive_rate, recall, thresholds = roc_curve(test_y, predictions[:, 1])\n",
        "roc_auc=auc(false_positive_rate,recall)\n",
        "plt.figure()\n",
        "lw = 2\n",
        "plt.figure(figsize=(10,10))\n",
        "plt.title('Random Forest Classifier: ROC RUC')\n",
        "plt.plot(false_positive_rate, recall, color='darkorange',\n",
        "         lw=lw, label='ROC curve (area = %0.2f)' % roc_auc)\n",
        "plt.legend(loc='lower right')\n",
        "plt.plot([0,1],[0,1],color='navy',lw=2, linestyle='--')\n",
        "plt.xlim([0.0,1.0])\n",
        "plt.ylim([0.0, 1.05])\n",
        "plt.ylabel('False Positive Rate')\n",
        "plt.xlabel('True Positive Rate')\n",
        "plt.show()"
      ],
      "execution_count": 0,
      "outputs": [
        {
          "output_type": "display_data",
          "data": {
            "text/plain": [
              "<Figure size 432x288 with 0 Axes>"
            ]
          },
          "metadata": {
            "tags": []
          }
        },
        {
          "output_type": "display_data",
          "data": {
            "image/png": "[encoded data removed]",
            "text/plain": [
              "<Figure size 720x720 with 1 Axes>"
            ]
          },
          "metadata": {
            "tags": []
          }
        }
      ]
    },
    {
      "cell_type": "code",
      "metadata": {
        "id": "mg4c6e7wG_jr",
        "colab_type": "code",
        "outputId": "abc4a64a-51fa-48c8-8e24-cacac7cf49a3",
        "colab": {
          "base_uri": "https://localhost:8080/",
          "height": 34
        }
      },
      "source": [
        "# here is the accuracy of SVM:C=0.8, kernel='linear' , as 0.77\n",
        "clf1 = svm.SVC(C=0.8, kernel='linear', decision_function_shape='ovr')\n",
        "clf1.fit(train_x, train_y)\n",
        "print(clf1.score(train_x, train_y))"
      ],
      "execution_count": 0,
      "outputs": [
        {
          "output_type": "stream",
          "text": [
            "0.7752442996742671\n"
          ],
          "name": "stdout"
        }
      ]
    },
    {
      "cell_type": "code",
      "metadata": {
        "id": "4B5lnJmtLLqH",
        "colab_type": "code",
        "colab": {}
      },
      "source": [
        "# ROC RUC curve for SVM: C=0.8, kernel='linear'\n",
        "from sklearn.metrics import roc_curve, auc\n",
        "y_score = clf1.fit(train_x, train_y).decision_function(test_x)\n",
        "fpr,tpr,threshold = roc_curve(test_y, y_score)\n",
        "roc_auc = auc(fpr,tpr)"
      ],
      "execution_count": 0,
      "outputs": []
    },
    {
      "cell_type": "code",
      "metadata": {
        "id": "wK3vi2qWLjPb",
        "colab_type": "code",
        "outputId": "53c8b062-e99d-4fc3-f473-ff5e5a8b9994",
        "colab": {
          "base_uri": "https://localhost:8080/",
          "height": 637
        }
      },
      "source": [
        "plt.figure()\n",
        "lw = 2\n",
        "plt.figure(figsize=(10,10))\n",
        "plt.plot(fpr, tpr, color='darkorange',\n",
        "         lw=lw, label='ROC curve (area = %0.2f)' % roc_auc)\n",
        "plt.plot([0, 1], [0, 1], color='navy', lw=lw, linestyle='--')\n",
        "plt.xlim([0.0, 1.0])\n",
        "plt.ylim([0.0, 1.05])\n",
        "plt.xlabel('False Positive Rate')\n",
        "plt.ylabel('True Positive Rate')\n",
        "plt.title('SVM: C=0.8, kernel=linear: ROC RUC')\n",
        "plt.legend(loc=\"lower right\")\n",
        "plt.show()"
      ],
      "execution_count": 0,
      "outputs": [
        {
          "output_type": "display_data",
          "data": {
            "text/plain": [
              "<Figure size 576x396 with 0 Axes>"
            ]
          },
          "metadata": {
            "tags": []
          }
        },
        {
          "output_type": "display_data",
          "data": {
            "image/png": "[encoded data removed]",
            "text/plain": [
              "<Figure size 720x720 with 1 Axes>"
            ]
          },
          "metadata": {
            "tags": []
          }
        }
      ]
    },
    {
      "cell_type": "code",
      "metadata": {
        "id": "oaJ8o9rQIHtk",
        "colab_type": "code",
        "outputId": "0364bb03-7f47-4a86-ed9f-72bef34cb7b2",
        "colab": {
          "base_uri": "https://localhost:8080/",
          "height": 34
        }
      },
      "source": [
        "# here is the accuracy of SVM:C=0.8, kernel='rbf' , as 1, which could result from overfitting\n",
        "clf2 = svm.SVC(C=0.8, kernel='rbf', decision_function_shape='ovr')\n",
        "clf2.fit(train_x, train_y)\n",
        "print(clf2.score(train_x, train_y))"
      ],
      "execution_count": 0,
      "outputs": [
        {
          "output_type": "stream",
          "text": [
            "1.0\n"
          ],
          "name": "stdout"
        }
      ]
    },
    {
      "cell_type": "code",
      "metadata": {
        "id": "YbHDkB9AL7Tl",
        "colab_type": "code",
        "colab": {}
      },
      "source": [
        "# ROC RUC curve for SVM: C=0.8, kernel='rbf'\n",
        "from sklearn.metrics import roc_curve, auc\n",
        "y_score = clf2.fit(train_x, train_y).decision_function(test_x)\n",
        "fpr,tpr,threshold = roc_curve(test_y, y_score)\n",
        "roc_auc = auc(fpr,tpr)"
      ],
      "execution_count": 0,
      "outputs": []
    },
    {
      "cell_type": "code",
      "metadata": {
        "id": "7EHK6CwvMOWX",
        "colab_type": "code",
        "outputId": "0beec6ef-42bc-48f9-94a8-b5bdaaa147b8",
        "colab": {
          "base_uri": "https://localhost:8080/",
          "height": 638
        }
      },
      "source": [
        "plt.figure()\n",
        "lw = 2\n",
        "plt.figure(figsize=(10,10))\n",
        "plt.plot(fpr, tpr, color='darkorange',\n",
        "         lw=lw, label='ROC curve (area = %0.2f)' % roc_auc)\n",
        "plt.plot([0, 1], [0, 1], color='navy', lw=lw, linestyle='--')\n",
        "plt.xlim([0.0, 1.0])\n",
        "plt.ylim([0.0, 1.05])\n",
        "plt.xlabel('False Positive Rate')\n",
        "plt.ylabel('True Positive Rate')\n",
        "plt.title('SVM: C=0.8, kernel=rbf: ROC RUC')\n",
        "plt.legend(loc=\"lower right\")\n",
        "plt.show()"
      ],
      "execution_count": 0,
      "outputs": [
        {
          "output_type": "display_data",
          "data": {
            "text/plain": [
              "<Figure size 432x288 with 0 Axes>"
            ]
          },
          "metadata": {
            "tags": []
          }
        },
        {
          "output_type": "display_data",
          "data": {
            "image/png": "[encoded data removed]",
            "text/plain": [
              "<Figure size 720x720 with 1 Axes>"
            ]
          },
          "metadata": {
            "tags": []
          }
        }
      ]
    },
    {
      "cell_type": "code",
      "metadata": {
        "id": "jUJ7bD0bIzi6",
        "colab_type": "code",
        "colab": {}
      },
      "source": [
        "# SVM GridSearch\n",
        "from sklearn.model_selection import GridSearchCV\n",
        "from sklearn.metrics import classification_report\n",
        "parameters = {'kernel':('linear', 'rbf'), 'C':[0.8,0.9,1]}\n",
        "svr = svm.SVC()\n",
        "clf = GridSearchCV(svr, parameters, scoring='f1_macro', cv=5)\n",
        "result = clf.fit(train_x, train_y)"
      ],
      "execution_count": 0,
      "outputs": []
    },
    {
      "cell_type": "code",
      "metadata": {
        "id": "5R60J9_4J-tp",
        "colab_type": "code",
        "outputId": "5151951b-01e5-49aa-d4e1-4bdc5fa53298",
        "colab": {
          "base_uri": "https://localhost:8080/",
          "height": 491
        }
      },
      "source": [
        "# Result of SVM GridSearch\n",
        "result_svc = pd.DataFrame(result.cv_results_)\n",
        "result_svc.sort_values(by='mean_test_score', ascending=False).head(5)"
      ],
      "execution_count": 0,
      "outputs": [
        {
          "output_type": "execute_result",
          "data": {
            "text/html": [
              "<div>\n",
              "<style scoped>\n",
              "    .dataframe tbody tr th:only-of-type {\n",
              "        vertical-align: middle;\n",
              "    }\n",
              "\n",
              "    .dataframe tbody tr th {\n",
              "        vertical-align: top;\n",
              "    }\n",
              "\n",
              "    .dataframe thead th {\n",
              "        text-align: right;\n",
              "    }\n",
              "</style>\n",
              "<table border=\"1\" class=\"dataframe\">\n",
              "  <thead>\n",
              "    <tr style=\"text-align: right;\">\n",
              "      <th></th>\n",
              "      <th>mean_fit_time</th>\n",
              "      <th>std_fit_time</th>\n",
              "      <th>mean_score_time</th>\n",
              "      <th>std_score_time</th>\n",
              "      <th>param_C</th>\n",
              "      <th>param_kernel</th>\n",
              "      <th>params</th>\n",
              "      <th>split0_test_score</th>\n",
              "      <th>split1_test_score</th>\n",
              "      <th>split2_test_score</th>\n",
              "      <th>...</th>\n",
              "      <th>mean_test_score</th>\n",
              "      <th>std_test_score</th>\n",
              "      <th>rank_test_score</th>\n",
              "      <th>split0_train_score</th>\n",
              "      <th>split1_train_score</th>\n",
              "      <th>split2_train_score</th>\n",
              "      <th>split3_train_score</th>\n",
              "      <th>split4_train_score</th>\n",
              "      <th>mean_train_score</th>\n",
              "      <th>std_train_score</th>\n",
              "    </tr>\n",
              "  </thead>\n",
              "  <tbody>\n",
              "    <tr>\n",
              "      <th>2</th>\n",
              "      <td>2.605220</td>\n",
              "      <td>1.175039</td>\n",
              "      <td>0.002413</td>\n",
              "      <td>0.000106</td>\n",
              "      <td>0.9</td>\n",
              "      <td>linear</td>\n",
              "      <td>{'C': 0.9, 'kernel': 'linear'}</td>\n",
              "      <td>0.730657</td>\n",
              "      <td>0.737034</td>\n",
              "      <td>0.721871</td>\n",
              "      <td>...</td>\n",
              "      <td>0.741463</td>\n",
              "      <td>0.015806</td>\n",
              "      <td>1</td>\n",
              "      <td>0.737572</td>\n",
              "      <td>0.742644</td>\n",
              "      <td>0.759297</td>\n",
              "      <td>0.730565</td>\n",
              "      <td>0.749342</td>\n",
              "      <td>0.743884</td>\n",
              "      <td>0.009860</td>\n",
              "    </tr>\n",
              "    <tr>\n",
              "      <th>4</th>\n",
              "      <td>2.770627</td>\n",
              "      <td>0.953298</td>\n",
              "      <td>0.002332</td>\n",
              "      <td>0.000024</td>\n",
              "      <td>1</td>\n",
              "      <td>linear</td>\n",
              "      <td>{'C': 1, 'kernel': 'linear'}</td>\n",
              "      <td>0.730657</td>\n",
              "      <td>0.737034</td>\n",
              "      <td>0.721871</td>\n",
              "      <td>...</td>\n",
              "      <td>0.741463</td>\n",
              "      <td>0.015806</td>\n",
              "      <td>1</td>\n",
              "      <td>0.737572</td>\n",
              "      <td>0.748395</td>\n",
              "      <td>0.763970</td>\n",
              "      <td>0.725796</td>\n",
              "      <td>0.742751</td>\n",
              "      <td>0.743697</td>\n",
              "      <td>0.012585</td>\n",
              "    </tr>\n",
              "    <tr>\n",
              "      <th>0</th>\n",
              "      <td>2.802027</td>\n",
              "      <td>1.108470</td>\n",
              "      <td>0.002359</td>\n",
              "      <td>0.000013</td>\n",
              "      <td>0.8</td>\n",
              "      <td>linear</td>\n",
              "      <td>{'C': 0.8, 'kernel': 'linear'}</td>\n",
              "      <td>0.730657</td>\n",
              "      <td>0.737034</td>\n",
              "      <td>0.721871</td>\n",
              "      <td>...</td>\n",
              "      <td>0.739927</td>\n",
              "      <td>0.015110</td>\n",
              "      <td>3</td>\n",
              "      <td>0.739475</td>\n",
              "      <td>0.742644</td>\n",
              "      <td>0.759297</td>\n",
              "      <td>0.728676</td>\n",
              "      <td>0.749342</td>\n",
              "      <td>0.743887</td>\n",
              "      <td>0.010194</td>\n",
              "    </tr>\n",
              "    <tr>\n",
              "      <th>1</th>\n",
              "      <td>0.016254</td>\n",
              "      <td>0.000381</td>\n",
              "      <td>0.004110</td>\n",
              "      <td>0.000303</td>\n",
              "      <td>0.8</td>\n",
              "      <td>rbf</td>\n",
              "      <td>{'C': 0.8, 'kernel': 'rbf'}</td>\n",
              "      <td>0.392157</td>\n",
              "      <td>0.391089</td>\n",
              "      <td>0.391089</td>\n",
              "      <td>...</td>\n",
              "      <td>0.392078</td>\n",
              "      <td>0.000870</td>\n",
              "      <td>4</td>\n",
              "      <td>1.000000</td>\n",
              "      <td>1.000000</td>\n",
              "      <td>1.000000</td>\n",
              "      <td>1.000000</td>\n",
              "      <td>1.000000</td>\n",
              "      <td>1.000000</td>\n",
              "      <td>0.000000</td>\n",
              "    </tr>\n",
              "    <tr>\n",
              "      <th>3</th>\n",
              "      <td>0.016115</td>\n",
              "      <td>0.000447</td>\n",
              "      <td>0.003998</td>\n",
              "      <td>0.000129</td>\n",
              "      <td>0.9</td>\n",
              "      <td>rbf</td>\n",
              "      <td>{'C': 0.9, 'kernel': 'rbf'}</td>\n",
              "      <td>0.392157</td>\n",
              "      <td>0.391089</td>\n",
              "      <td>0.391089</td>\n",
              "      <td>...</td>\n",
              "      <td>0.392078</td>\n",
              "      <td>0.000870</td>\n",
              "      <td>4</td>\n",
              "      <td>1.000000</td>\n",
              "      <td>1.000000</td>\n",
              "      <td>1.000000</td>\n",
              "      <td>1.000000</td>\n",
              "      <td>1.000000</td>\n",
              "      <td>1.000000</td>\n",
              "      <td>0.000000</td>\n",
              "    </tr>\n",
              "  </tbody>\n",
              "</table>\n",
              "<p>5 rows × 22 columns</p>\n",
              "</div>"
            ],
            "text/plain": [
              "   mean_fit_time  std_fit_time  mean_score_time  std_score_time param_C  \\\n",
              "2       2.605220      1.175039         0.002413        0.000106     0.9   \n",
              "4       2.770627      0.953298         0.002332        0.000024       1   \n",
              "0       2.802027      1.108470         0.002359        0.000013     0.8   \n",
              "1       0.016254      0.000381         0.004110        0.000303     0.8   \n",
              "3       0.016115      0.000447         0.003998        0.000129     0.9   \n",
              "\n",
              "  param_kernel                          params  split0_test_score  \\\n",
              "2       linear  {'C': 0.9, 'kernel': 'linear'}           0.730657   \n",
              "4       linear    {'C': 1, 'kernel': 'linear'}           0.730657   \n",
              "0       linear  {'C': 0.8, 'kernel': 'linear'}           0.730657   \n",
              "1          rbf     {'C': 0.8, 'kernel': 'rbf'}           0.392157   \n",
              "3          rbf     {'C': 0.9, 'kernel': 'rbf'}           0.392157   \n",
              "\n",
              "   split1_test_score  split2_test_score  ...  mean_test_score  std_test_score  \\\n",
              "2           0.737034           0.721871  ...         0.741463        0.015806   \n",
              "4           0.737034           0.721871  ...         0.741463        0.015806   \n",
              "0           0.737034           0.721871  ...         0.739927        0.015110   \n",
              "1           0.391089           0.391089  ...         0.392078        0.000870   \n",
              "3           0.391089           0.391089  ...         0.392078        0.000870   \n",
              "\n",
              "   rank_test_score  split0_train_score  split1_train_score  \\\n",
              "2                1            0.737572            0.742644   \n",
              "4                1            0.737572            0.748395   \n",
              "0                3            0.739475            0.742644   \n",
              "1                4            1.000000            1.000000   \n",
              "3                4            1.000000            1.000000   \n",
              "\n",
              "   split2_train_score  split3_train_score  split4_train_score  \\\n",
              "2            0.759297            0.730565            0.749342   \n",
              "4            0.763970            0.725796            0.742751   \n",
              "0            0.759297            0.728676            0.749342   \n",
              "1            1.000000            1.000000            1.000000   \n",
              "3            1.000000            1.000000            1.000000   \n",
              "\n",
              "   mean_train_score  std_train_score  \n",
              "2          0.743884         0.009860  \n",
              "4          0.743697         0.012585  \n",
              "0          0.743887         0.010194  \n",
              "1          1.000000         0.000000  \n",
              "3          1.000000         0.000000  \n",
              "\n",
              "[5 rows x 22 columns]"
            ]
          },
          "metadata": {
            "tags": []
          },
          "execution_count": 27
        }
      ]
    },
    {
      "cell_type": "code",
      "metadata": {
        "id": "8fn5rGLU0ke7",
        "colab_type": "code",
        "colab": {}
      },
      "source": [
        "model_Log = LogisticRegression(random_state=45)\n",
        "model_Log.fit(features,target)\n",
        "pred = model_Log.predict(test_x)"
      ],
      "execution_count": 0,
      "outputs": []
    },
    {
      "cell_type": "code",
      "metadata": {
        "id": "Sggq1GpY5BoJ",
        "colab_type": "code",
        "outputId": "185fd740-fc1d-4b08-8d54-df423a730448",
        "colab": {
          "base_uri": "https://localhost:8080/",
          "height": 1105
        }
      },
      "source": [
        "## Prediction \n",
        "# It turns out the Logistic regression has the higher accuracy number, \n",
        "# so I run this model on the test dataset,and it will return me with a list as below\n",
        "prediction = pd.DataFrame({\n",
        "        \"id\": id,\n",
        "        \"Outcome\": pred\n",
        "    })\n",
        "print(prediction)"
      ],
      "execution_count": 0,
      "outputs": [
        {
          "output_type": "stream",
          "text": [
            "                         id  Outcome\n",
            "0    <built-in function id>        0\n",
            "1    <built-in function id>        0\n",
            "2    <built-in function id>        0\n",
            "3    <built-in function id>        1\n",
            "4    <built-in function id>        0\n",
            "5    <built-in function id>        0\n",
            "6    <built-in function id>        1\n",
            "7    <built-in function id>        0\n",
            "8    <built-in function id>        0\n",
            "9    <built-in function id>        0\n",
            "10   <built-in function id>        0\n",
            "11   <built-in function id>        0\n",
            "12   <built-in function id>        0\n",
            "13   <built-in function id>        0\n",
            "14   <built-in function id>        0\n",
            "15   <built-in function id>        0\n",
            "16   <built-in function id>        0\n",
            "17   <built-in function id>        0\n",
            "18   <built-in function id>        1\n",
            "19   <built-in function id>        0\n",
            "20   <built-in function id>        0\n",
            "21   <built-in function id>        1\n",
            "22   <built-in function id>        0\n",
            "23   <built-in function id>        0\n",
            "24   <built-in function id>        1\n",
            "25   <built-in function id>        0\n",
            "26   <built-in function id>        0\n",
            "27   <built-in function id>        0\n",
            "28   <built-in function id>        0\n",
            "29   <built-in function id>        0\n",
            "..                      ...      ...\n",
            "124  <built-in function id>        0\n",
            "125  <built-in function id>        0\n",
            "126  <built-in function id>        0\n",
            "127  <built-in function id>        0\n",
            "128  <built-in function id>        0\n",
            "129  <built-in function id>        0\n",
            "130  <built-in function id>        0\n",
            "131  <built-in function id>        1\n",
            "132  <built-in function id>        0\n",
            "133  <built-in function id>        1\n",
            "134  <built-in function id>        1\n",
            "135  <built-in function id>        0\n",
            "136  <built-in function id>        1\n",
            "137  <built-in function id>        0\n",
            "138  <built-in function id>        0\n",
            "139  <built-in function id>        0\n",
            "140  <built-in function id>        1\n",
            "141  <built-in function id>        0\n",
            "142  <built-in function id>        0\n",
            "143  <built-in function id>        0\n",
            "144  <built-in function id>        0\n",
            "145  <built-in function id>        0\n",
            "146  <built-in function id>        1\n",
            "147  <built-in function id>        0\n",
            "148  <built-in function id>        0\n",
            "149  <built-in function id>        1\n",
            "150  <built-in function id>        0\n",
            "151  <built-in function id>        0\n",
            "152  <built-in function id>        1\n",
            "153  <built-in function id>        0\n",
            "\n",
            "[154 rows x 2 columns]\n"
          ],
          "name": "stdout"
        }
      ]
    },
    {
      "cell_type": "markdown",
      "metadata": {
        "id": "RDKK_UBB-U4q",
        "colab_type": "text"
      },
      "source": [
        "## Confusion Matrix"
      ]
    },
    {
      "cell_type": "code",
      "metadata": {
        "id": "MFryYwSx-Xlm",
        "colab_type": "code",
        "outputId": "30836519-1449-469c-c6a1-ae632da55c28",
        "colab": {
          "base_uri": "https://localhost:8080/",
          "height": 279
        }
      },
      "source": [
        "from yellowbrick.classifier import ConfusionMatrix\n",
        "\n",
        "xgb = XGBClassifier()\n",
        "xgb.fit(train_x,train_y)\n",
        "\n",
        "y_pred = xgb.predict(test_x)\n",
        "xgb_accy_train = round(xgb.score(train_x,train_y),2)\n",
        "xgb_accy = round(xgb.score(test_x,test_y),2)\n",
        "\n",
        "cm = ConfusionMatrix(xgb, classes=[0,1])\n",
        "\n",
        "# Fit fits the passed model. This is unnecessary if you pass the visualizer a pre-fitted model\n",
        "cm.fit(train_x,train_y)\n",
        "\n",
        "# To create the ConfusionMatrix, we need some test data. Score runs predict() on the data\n",
        "# and then creates the confusion_matrix from scikit-learn.\n",
        "cm.score(test_x,test_y)\n"
      ],
      "execution_count": 0,
      "outputs": [
        {
          "output_type": "execute_result",
          "data": {
            "text/plain": [
              "0.7987012987012987"
            ]
          },
          "metadata": {
            "tags": []
          },
          "execution_count": 31
        },
        {
          "output_type": "display_data",
          "data": {
            "image/png": "[encoded data removed]",
            "text/plain": [
              "<Figure size 432x288 with 1 Axes>"
            ]
          },
          "metadata": {
            "tags": []
          }
        }
      ]
    },
    {
      "cell_type": "markdown",
      "metadata": {
        "id": "CESA_iIp2Hse",
        "colab_type": "text"
      },
      "source": [
        "##AutoML\n",
        "\n",
        "###h2o\n"
      ]
    },
    {
      "cell_type": "code",
      "metadata": {
        "id": "4c9vOdL43f6H",
        "colab_type": "code",
        "outputId": "f97b09c0-11cd-4108-fbf9-68f78213815f",
        "colab": {
          "base_uri": "https://localhost:8080/",
          "height": 88
        }
      },
      "source": [
        "!pip -q install requests\n",
        "\n",
        "!pip -q install tabulate\n",
        "!pip -q install \"colorama>=0.3.8\"\n",
        "!pip -q install future\n",
        "!pip -q install -f http://h2o-release.s3.amazonaws.com/h2o/latest_stable_Py.html h2o"
      ],
      "execution_count": 0,
      "outputs": [
        {
          "output_type": "stream",
          "text": [
            "\u001b[33m  WARNING: The repository located at h2o-release.s3.amazonaws.com is not a trusted or secure host and is being ignored. If this repository is available via HTTPS we recommend you use HTTPS instead, otherwise you may silence this warning and allow it anyway with '--trusted-host h2o-release.s3.amazonaws.com'.\u001b[0m\n",
            "\u001b[K     |████████████████████████████████| 121.0MB 204kB/s \n",
            "\u001b[?25h  Building wheel for h2o (setup.py) ... \u001b[?25l\u001b[?25hdone\n"
          ],
          "name": "stdout"
        }
      ]
    },
    {
      "cell_type": "code",
      "metadata": {
        "id": "Yc3AUpNz3kYI",
        "colab_type": "code",
        "outputId": "4184416c-be5c-41e6-84d8-b8dd48dbfcfd",
        "colab": {
          "base_uri": "https://localhost:8080/",
          "height": 528
        }
      },
      "source": [
        "import h2o\n",
        "from h2o.automl import H2OAutoML\n",
        "h2o.init()"
      ],
      "execution_count": 0,
      "outputs": [
        {
          "output_type": "stream",
          "text": [
            "Checking whether there is an H2O instance running at http://localhost:54321 ..... not found.\n",
            "Attempting to start a local H2O server...\n",
            "  Java Version: openjdk version \"11.0.2\" 2019-01-15; OpenJDK Runtime Environment (build 11.0.2+9-Ubuntu-3ubuntu118.04.3); OpenJDK 64-Bit Server VM (build 11.0.2+9-Ubuntu-3ubuntu118.04.3, mixed mode, sharing)\n",
            "  Starting server from /usr/local/lib/python3.6/dist-packages/h2o/backend/bin/h2o.jar\n",
            "  Ice root: /tmp/tmpcxh0p_0v\n",
            "  JVM stdout: /tmp/tmpcxh0p_0v/h2o_unknownUser_started_from_python.out\n",
            "  JVM stderr: /tmp/tmpcxh0p_0v/h2o_unknownUser_started_from_python.err\n",
            "  Server is running at http://127.0.0.1:54321\n",
            "Connecting to H2O server at http://127.0.0.1:54321 ... successful.\n"
          ],
          "name": "stdout"
        },
        {
          "output_type": "display_data",
          "data": {
            "text/html": [
              "<div style=\"overflow:auto\"><table style=\"width:50%\"><tr><td>H2O cluster uptime:</td>\n",
              "<td>02 secs</td></tr>\n",
              "<tr><td>H2O cluster timezone:</td>\n",
              "<td>Etc/UTC</td></tr>\n",
              "<tr><td>H2O data parsing timezone:</td>\n",
              "<td>UTC</td></tr>\n",
              "<tr><td>H2O cluster version:</td>\n",
              "<td>3.24.0.2</td></tr>\n",
              "<tr><td>H2O cluster version age:</td>\n",
              "<td>15 days </td></tr>\n",
              "<tr><td>H2O cluster name:</td>\n",
              "<td>H2O_from_python_unknownUser_fj7pld</td></tr>\n",
              "<tr><td>H2O cluster total nodes:</td>\n",
              "<td>1</td></tr>\n",
              "<tr><td>H2O cluster free memory:</td>\n",
              "<td>3 Gb</td></tr>\n",
              "<tr><td>H2O cluster total cores:</td>\n",
              "<td>2</td></tr>\n",
              "<tr><td>H2O cluster allowed cores:</td>\n",
              "<td>2</td></tr>\n",
              "<tr><td>H2O cluster status:</td>\n",
              "<td>accepting new members, healthy</td></tr>\n",
              "<tr><td>H2O connection url:</td>\n",
              "<td>http://127.0.0.1:54321</td></tr>\n",
              "<tr><td>H2O connection proxy:</td>\n",
              "<td>None</td></tr>\n",
              "<tr><td>H2O internal security:</td>\n",
              "<td>False</td></tr>\n",
              "<tr><td>H2O API Extensions:</td>\n",
              "<td>Amazon S3, XGBoost, Algos, AutoML, Core V3, Core V4</td></tr>\n",
              "<tr><td>Python version:</td>\n",
              "<td>3.6.7 final</td></tr></table></div>"
            ],
            "text/plain": [
              "--------------------------  ---------------------------------------------------\n",
              "H2O cluster uptime:         02 secs\n",
              "H2O cluster timezone:       Etc/UTC\n",
              "H2O data parsing timezone:  UTC\n",
              "H2O cluster version:        3.24.0.2\n",
              "H2O cluster version age:    15 days\n",
              "H2O cluster name:           H2O_from_python_unknownUser_fj7pld\n",
              "H2O cluster total nodes:    1\n",
              "H2O cluster free memory:    3 Gb\n",
              "H2O cluster total cores:    2\n",
              "H2O cluster allowed cores:  2\n",
              "H2O cluster status:         accepting new members, healthy\n",
              "H2O connection url:         http://127.0.0.1:54321\n",
              "H2O connection proxy:\n",
              "H2O internal security:      False\n",
              "H2O API Extensions:         Amazon S3, XGBoost, Algos, AutoML, Core V3, Core V4\n",
              "Python version:             3.6.7 final\n",
              "--------------------------  ---------------------------------------------------"
            ]
          },
          "metadata": {
            "tags": []
          }
        }
      ]
    },
    {
      "cell_type": "markdown",
      "metadata": {
        "id": "ndgW9CQR5P2l",
        "colab_type": "text"
      },
      "source": [
        "###Model"
      ]
    },
    {
      "cell_type": "code",
      "metadata": {
        "id": "prrtgh6E5REn",
        "colab_type": "code",
        "colab": {}
      },
      "source": [
        "# Randomly split the data into 75% training and 25% testing.\n",
        "train, test = df.split_frame(ratios=[0.75], seed=1234)\n",
        "\n",
        "# Now train the baseline model.\n",
        "# We will train a GBM model with early stopping.\n",
        "from h2o.estimators.gbm import H2OGradientBoostingEstimator\n",
        "x = [\"Pregnancies\",\"Glucose\",\"BloodPressure\",\"SkinThickness\",\"Insulin\",\"BMI\",\"DiabetesPedigreeFunction\",\"Age\"]\n",
        "y = \"Outcome\""
      ],
      "execution_count": 0,
      "outputs": []
    },
    {
      "cell_type": "code",
      "metadata": {
        "id": "Qya8nFh151lN",
        "colab_type": "code",
        "outputId": "c56fe8c1-184f-49c5-ab3f-31816a1def9d",
        "colab": {
          "base_uri": "https://localhost:8080/",
          "height": 34
        }
      },
      "source": [
        "#train for 5 minutes, 300 maximum number of models,\n",
        "#other parameters to set: http://docs.h2o.ai/h2o/latest-stable/h2o-docs/automl.html\n",
        "\n",
        "aml = H2OAutoML(max_models = 30, max_runtime_secs=300, seed = 1)\n",
        "aml.train(x = x, y = y, training_frame = df)"
      ],
      "execution_count": 0,
      "outputs": [
        {
          "output_type": "stream",
          "text": [
            "AutoML progress: |████████████████████████████████████████████████████████| 100%\n"
          ],
          "name": "stdout"
        }
      ]
    },
    {
      "cell_type": "code",
      "metadata": {
        "id": "B_SXoscL6LyG",
        "colab_type": "code",
        "outputId": "a4e4aa7b-b45e-43c8-9c4d-660f371f9da2",
        "colab": {
          "base_uri": "https://localhost:8080/",
          "height": 691
        }
      },
      "source": [
        "###Access the AutoML Leaderboard\n",
        "lb = aml.leaderboard\n",
        "#lb.head()\n",
        "lb.head(rows=lb.nrows) # Entire leaderboard"
      ],
      "execution_count": 0,
      "outputs": [
        {
          "output_type": "display_data",
          "data": {
            "text/html": [
              "<table>\n",
              "<thead>\n",
              "<tr><th>model_id                                           </th><th style=\"text-align: right;\">     auc</th><th style=\"text-align: right;\">  logloss</th><th style=\"text-align: right;\">  mean_per_class_error</th><th style=\"text-align: right;\">    rmse</th><th style=\"text-align: right;\">     mse</th></tr>\n",
              "</thead>\n",
              "<tbody>\n",
              "<tr><td>XGBoost_grid_1_AutoML_20190502_185631_model_6      </td><td style=\"text-align: right;\">0.829403</td><td style=\"text-align: right;\"> 0.481206</td><td style=\"text-align: right;\">              0.240418</td><td style=\"text-align: right;\">0.398898</td><td style=\"text-align: right;\">0.159119</td></tr>\n",
              "<tr><td>StackedEnsemble_BestOfFamily_AutoML_20190502_185631</td><td style=\"text-align: right;\">0.828239</td><td style=\"text-align: right;\"> 0.485238</td><td style=\"text-align: right;\">              0.244597</td><td style=\"text-align: right;\">0.398547</td><td style=\"text-align: right;\">0.15884 </td></tr>\n",
              "<tr><td>XGBoost_3_AutoML_20190502_185631                   </td><td style=\"text-align: right;\">0.82809 </td><td style=\"text-align: right;\"> 0.486102</td><td style=\"text-align: right;\">              0.225552</td><td style=\"text-align: right;\">0.399283</td><td style=\"text-align: right;\">0.159427</td></tr>\n",
              "<tr><td>XGBoost_1_AutoML_20190502_185631                   </td><td style=\"text-align: right;\">0.827892</td><td style=\"text-align: right;\"> 0.48321 </td><td style=\"text-align: right;\">              0.22809 </td><td style=\"text-align: right;\">0.399288</td><td style=\"text-align: right;\">0.159431</td></tr>\n",
              "<tr><td>XGBoost_grid_1_AutoML_20190502_185631_model_8      </td><td style=\"text-align: right;\">0.826463</td><td style=\"text-align: right;\"> 0.486923</td><td style=\"text-align: right;\">              0.244746</td><td style=\"text-align: right;\">0.400641</td><td style=\"text-align: right;\">0.160513</td></tr>\n",
              "<tr><td>StackedEnsemble_AllModels_AutoML_20190502_185631   </td><td style=\"text-align: right;\">0.826112</td><td style=\"text-align: right;\"> 0.48812 </td><td style=\"text-align: right;\">              0.250209</td><td style=\"text-align: right;\">0.399758</td><td style=\"text-align: right;\">0.159806</td></tr>\n",
              "<tr><td>GLM_grid_1_AutoML_20190502_185631_model_1          </td><td style=\"text-align: right;\">0.82603 </td><td style=\"text-align: right;\"> 0.487539</td><td style=\"text-align: right;\">              0.251343</td><td style=\"text-align: right;\">0.398129</td><td style=\"text-align: right;\">0.158507</td></tr>\n",
              "<tr><td>XGBoost_grid_1_AutoML_20190502_185631_model_1      </td><td style=\"text-align: right;\">0.825847</td><td style=\"text-align: right;\"> 0.487329</td><td style=\"text-align: right;\">              0.240075</td><td style=\"text-align: right;\">0.400306</td><td style=\"text-align: right;\">0.160245</td></tr>\n",
              "<tr><td>GBM_grid_1_AutoML_20190502_185631_model_3          </td><td style=\"text-align: right;\">0.825287</td><td style=\"text-align: right;\"> 0.564413</td><td style=\"text-align: right;\">              0.238806</td><td style=\"text-align: right;\">0.43585 </td><td style=\"text-align: right;\">0.189965</td></tr>\n",
              "<tr><td>XGBoost_2_AutoML_20190502_185631                   </td><td style=\"text-align: right;\">0.824955</td><td style=\"text-align: right;\"> 0.490386</td><td style=\"text-align: right;\">              0.250537</td><td style=\"text-align: right;\">0.401755</td><td style=\"text-align: right;\">0.161407</td></tr>\n",
              "<tr><td>XGBoost_grid_1_AutoML_20190502_185631_model_5      </td><td style=\"text-align: right;\">0.824896</td><td style=\"text-align: right;\"> 0.487734</td><td style=\"text-align: right;\">              0.237418</td><td style=\"text-align: right;\">0.400561</td><td style=\"text-align: right;\">0.160449</td></tr>\n",
              "<tr><td>GBM_5_AutoML_20190502_185631                       </td><td style=\"text-align: right;\">0.824623</td><td style=\"text-align: right;\"> 0.488066</td><td style=\"text-align: right;\">              0.245284</td><td style=\"text-align: right;\">0.401361</td><td style=\"text-align: right;\">0.16109 </td></tr>\n",
              "<tr><td>DeepLearning_grid_1_AutoML_20190502_185631_model_5 </td><td style=\"text-align: right;\">0.824213</td><td style=\"text-align: right;\"> 0.497393</td><td style=\"text-align: right;\">              0.254149</td><td style=\"text-align: right;\">0.404371</td><td style=\"text-align: right;\">0.163516</td></tr>\n",
              "<tr><td>GBM_grid_1_AutoML_20190502_185631_model_2          </td><td style=\"text-align: right;\">0.817657</td><td style=\"text-align: right;\"> 0.565492</td><td style=\"text-align: right;\">              0.248164</td><td style=\"text-align: right;\">0.43679 </td><td style=\"text-align: right;\">0.190785</td></tr>\n",
              "<tr><td>GBM_4_AutoML_20190502_185631                       </td><td style=\"text-align: right;\">0.817604</td><td style=\"text-align: right;\"> 0.501598</td><td style=\"text-align: right;\">              0.251   </td><td style=\"text-align: right;\">0.406785</td><td style=\"text-align: right;\">0.165474</td></tr>\n",
              "<tr><td>XGBoost_grid_1_AutoML_20190502_185631_model_4      </td><td style=\"text-align: right;\">0.816187</td><td style=\"text-align: right;\"> 0.500123</td><td style=\"text-align: right;\">              0.252418</td><td style=\"text-align: right;\">0.407366</td><td style=\"text-align: right;\">0.165947</td></tr>\n",
              "<tr><td>GBM_2_AutoML_20190502_185631                       </td><td style=\"text-align: right;\">0.814892</td><td style=\"text-align: right;\"> 0.505554</td><td style=\"text-align: right;\">              0.255791</td><td style=\"text-align: right;\">0.408601</td><td style=\"text-align: right;\">0.166955</td></tr>\n",
              "<tr><td>GBM_1_AutoML_20190502_185631                       </td><td style=\"text-align: right;\">0.814627</td><td style=\"text-align: right;\"> 0.509005</td><td style=\"text-align: right;\">              0.262224</td><td style=\"text-align: right;\">0.412009</td><td style=\"text-align: right;\">0.169751</td></tr>\n",
              "<tr><td>XGBoost_grid_1_AutoML_20190502_185631_model_3      </td><td style=\"text-align: right;\">0.813459</td><td style=\"text-align: right;\"> 0.501227</td><td style=\"text-align: right;\">              0.252522</td><td style=\"text-align: right;\">0.407293</td><td style=\"text-align: right;\">0.165888</td></tr>\n",
              "<tr><td>XGBoost_grid_1_AutoML_20190502_185631_model_7      </td><td style=\"text-align: right;\">0.813063</td><td style=\"text-align: right;\"> 0.522701</td><td style=\"text-align: right;\">              0.262657</td><td style=\"text-align: right;\">0.414487</td><td style=\"text-align: right;\">0.171799</td></tr>\n",
              "<tr><td>GBM_3_AutoML_20190502_185631                       </td><td style=\"text-align: right;\">0.812608</td><td style=\"text-align: right;\"> 0.50638 </td><td style=\"text-align: right;\">              0.252418</td><td style=\"text-align: right;\">0.409862</td><td style=\"text-align: right;\">0.167987</td></tr>\n",
              "<tr><td>DeepLearning_grid_1_AutoML_20190502_185631_model_2 </td><td style=\"text-align: right;\">0.805239</td><td style=\"text-align: right;\"> 0.539203</td><td style=\"text-align: right;\">              0.257194</td><td style=\"text-align: right;\">0.421455</td><td style=\"text-align: right;\">0.177624</td></tr>\n",
              "<tr><td>XRT_1_AutoML_20190502_185631                       </td><td style=\"text-align: right;\">0.804713</td><td style=\"text-align: right;\"> 0.750074</td><td style=\"text-align: right;\">              0.283507</td><td style=\"text-align: right;\">0.412927</td><td style=\"text-align: right;\">0.170508</td></tr>\n",
              "<tr><td>DeepLearning_1_AutoML_20190502_185631              </td><td style=\"text-align: right;\">0.793847</td><td style=\"text-align: right;\"> 0.538607</td><td style=\"text-align: right;\">              0.268149</td><td style=\"text-align: right;\">0.418586</td><td style=\"text-align: right;\">0.175214</td></tr>\n",
              "<tr><td>DRF_1_AutoML_20190502_185631                       </td><td style=\"text-align: right;\">0.793451</td><td style=\"text-align: right;\"> 0.599823</td><td style=\"text-align: right;\">              0.276866</td><td style=\"text-align: right;\">0.416607</td><td style=\"text-align: right;\">0.173561</td></tr>\n",
              "<tr><td>DeepLearning_grid_1_AutoML_20190502_185631_model_1 </td><td style=\"text-align: right;\">0.786138</td><td style=\"text-align: right;\"> 1.05497 </td><td style=\"text-align: right;\">              0.277597</td><td style=\"text-align: right;\">0.446384</td><td style=\"text-align: right;\">0.199259</td></tr>\n",
              "<tr><td>GBM_grid_1_AutoML_20190502_185631_model_4          </td><td style=\"text-align: right;\">0.775761</td><td style=\"text-align: right;\"> 0.849303</td><td style=\"text-align: right;\">              0.265552</td><td style=\"text-align: right;\">0.473352</td><td style=\"text-align: right;\">0.224062</td></tr>\n",
              "<tr><td>DeepLearning_grid_1_AutoML_20190502_185631_model_3 </td><td style=\"text-align: right;\">0.775052</td><td style=\"text-align: right;\"> 0.91163 </td><td style=\"text-align: right;\">              0.30503 </td><td style=\"text-align: right;\">0.458937</td><td style=\"text-align: right;\">0.210624</td></tr>\n",
              "<tr><td>DeepLearning_grid_1_AutoML_20190502_185631_model_4 </td><td style=\"text-align: right;\">0.733743</td><td style=\"text-align: right;\"> 2.80485 </td><td style=\"text-align: right;\">              0.315418</td><td style=\"text-align: right;\">0.545732</td><td style=\"text-align: right;\">0.297823</td></tr>\n",
              "<tr><td>GBM_grid_1_AutoML_20190502_185631_model_1          </td><td style=\"text-align: right;\">0.614612</td><td style=\"text-align: right;\"> 0.643716</td><td style=\"text-align: right;\">              0.421388</td><td style=\"text-align: right;\">0.475175</td><td style=\"text-align: right;\">0.225791</td></tr>\n",
              "<tr><td>XGBoost_grid_1_AutoML_20190502_185631_model_2      </td><td style=\"text-align: right;\">0.5     </td><td style=\"text-align: right;\"> 0.693147</td><td style=\"text-align: right;\">              0.5     </td><td style=\"text-align: right;\">0.5     </td><td style=\"text-align: right;\">0.25    </td></tr>\n",
              "</tbody>\n",
              "</table>"
            ]
          },
          "metadata": {
            "tags": []
          }
        },
        {
          "output_type": "execute_result",
          "data": {
            "text/plain": [
              ""
            ]
          },
          "metadata": {
            "tags": []
          },
          "execution_count": 21
        }
      ]
    },
    {
      "cell_type": "code",
      "metadata": {
        "id": "k5qWxZUN7fqF",
        "colab_type": "code",
        "outputId": "b99dc861-385f-40ab-d3f9-2fd8fb066ae9",
        "colab": {
          "base_uri": "https://localhost:8080/",
          "height": 34
        }
      },
      "source": [
        "#Best Model: XGBoost_grid_1_AutoML_20190502_185631_model_6 \n",
        "#Prediction \n",
        "preds = aml.predict(test)"
      ],
      "execution_count": 0,
      "outputs": [
        {
          "output_type": "stream",
          "text": [
            "xgboost prediction progress: |████████████████████████████████████████████| 100%\n"
          ],
          "name": "stdout"
        }
      ]
    },
    {
      "cell_type": "code",
      "metadata": {
        "id": "5Cjnlqyj84__",
        "colab_type": "code",
        "outputId": "51318eed-8256-4cba-f1cf-909a149efc81",
        "colab": {
          "base_uri": "https://localhost:8080/",
          "height": 250
        }
      },
      "source": [
        "preds"
      ],
      "execution_count": 0,
      "outputs": [
        {
          "output_type": "display_data",
          "data": {
            "text/html": [
              "<table>\n",
              "<thead>\n",
              "<tr><th style=\"text-align: right;\">  predict</th><th style=\"text-align: right;\">      p0</th><th style=\"text-align: right;\">       p1</th></tr>\n",
              "</thead>\n",
              "<tbody>\n",
              "<tr><td style=\"text-align: right;\">        0</td><td style=\"text-align: right;\">0.965843</td><td style=\"text-align: right;\">0.0341569</td></tr>\n",
              "<tr><td style=\"text-align: right;\">        0</td><td style=\"text-align: right;\">0.824579</td><td style=\"text-align: right;\">0.175421 </td></tr>\n",
              "<tr><td style=\"text-align: right;\">        1</td><td style=\"text-align: right;\">0.321856</td><td style=\"text-align: right;\">0.678144 </td></tr>\n",
              "<tr><td style=\"text-align: right;\">        1</td><td style=\"text-align: right;\">0.503898</td><td style=\"text-align: right;\">0.496102 </td></tr>\n",
              "<tr><td style=\"text-align: right;\">        0</td><td style=\"text-align: right;\">0.740984</td><td style=\"text-align: right;\">0.259016 </td></tr>\n",
              "<tr><td style=\"text-align: right;\">        1</td><td style=\"text-align: right;\">0.495441</td><td style=\"text-align: right;\">0.504559 </td></tr>\n",
              "<tr><td style=\"text-align: right;\">        0</td><td style=\"text-align: right;\">0.73419 </td><td style=\"text-align: right;\">0.26581  </td></tr>\n",
              "<tr><td style=\"text-align: right;\">        0</td><td style=\"text-align: right;\">0.796625</td><td style=\"text-align: right;\">0.203375 </td></tr>\n",
              "<tr><td style=\"text-align: right;\">        1</td><td style=\"text-align: right;\">0.322252</td><td style=\"text-align: right;\">0.677748 </td></tr>\n",
              "<tr><td style=\"text-align: right;\">        0</td><td style=\"text-align: right;\">0.600873</td><td style=\"text-align: right;\">0.399127 </td></tr>\n",
              "</tbody>\n",
              "</table>"
            ]
          },
          "metadata": {
            "tags": []
          }
        },
        {
          "output_type": "execute_result",
          "data": {
            "text/plain": [
              ""
            ]
          },
          "metadata": {
            "tags": []
          },
          "execution_count": 26
        }
      ]
    },
    {
      "cell_type": "code",
      "metadata": {
        "id": "AIiVG_2R78QJ",
        "colab_type": "code",
        "colab": {}
      },
      "source": [
        "#save leader model\n",
        "#h2o.save_model(aml.leader, path = \"./Loan_Pred_Model_III_shaz13\")"
      ],
      "execution_count": 0,
      "outputs": []
    }
  ]
}